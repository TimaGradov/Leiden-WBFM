{
 "cells": [
  {
   "cell_type": "markdown",
   "metadata": {},
   "source": [
    "**Imports**"
   ]
  },
  {
   "cell_type": "code",
   "execution_count": 1,
   "metadata": {},
   "outputs": [],
   "source": [
    "import warnings\n",
    "warnings.filterwarnings('ignore')"
   ]
  },
  {
   "cell_type": "code",
   "execution_count": 2,
   "metadata": {},
   "outputs": [],
   "source": [
    "%reload_ext autoreload\n",
    "%autoreload 2"
   ]
  },
  {
   "cell_type": "code",
   "execution_count": 3,
   "metadata": {},
   "outputs": [
    {
     "data": {
      "text/html": [
       "        <script type=\"text/javascript\">\n",
       "        window.PlotlyConfig = {MathJaxConfig: 'local'};\n",
       "        if (window.MathJax) {MathJax.Hub.Config({SVG: {font: \"STIX-Web\"}});}\n",
       "        if (typeof require !== 'undefined') {\n",
       "        require.undef(\"plotly\");\n",
       "        requirejs.config({\n",
       "            paths: {\n",
       "                'plotly': ['https://cdn.plot.ly/plotly-latest.min']\n",
       "            }\n",
       "        });\n",
       "        require(['plotly'], function(Plotly) {\n",
       "            window._Plotly = Plotly;\n",
       "        });\n",
       "        }\n",
       "        </script>\n",
       "        "
      ]
     },
     "metadata": {},
     "output_type": "display_data"
    },
    {
     "data": {
      "text/html": [
       "        <script type=\"text/javascript\">\n",
       "        window.PlotlyConfig = {MathJaxConfig: 'local'};\n",
       "        if (window.MathJax) {MathJax.Hub.Config({SVG: {font: \"STIX-Web\"}});}\n",
       "        if (typeof require !== 'undefined') {\n",
       "        require.undef(\"plotly\");\n",
       "        requirejs.config({\n",
       "            paths: {\n",
       "                'plotly': ['https://cdn.plot.ly/plotly-latest.min']\n",
       "            }\n",
       "        });\n",
       "        require(['plotly'], function(Plotly) {\n",
       "            window._Plotly = Plotly;\n",
       "        });\n",
       "        }\n",
       "        </script>\n",
       "        "
      ]
     },
     "metadata": {},
     "output_type": "display_data"
    }
   ],
   "source": [
    "import json\n",
    "import networkx as nx\n",
    "import numpy as np\n",
    "import pandas as pd\n",
    "import scipy\n",
    "from sklearn.neighbors import kneighbors_graph\n",
    "from tqdm import tqdm_notebook, tqdm\n",
    "from collections import Counter, defaultdict\n",
    "import pickle\n",
    "import community\n",
    "import multiprocessing as mp\n",
    "import matplotlib.pyplot as plt\n",
    "import plotly.graph_objs as go\n",
    "from plotly import tools\n",
    "from plotly.offline import iplot, init_notebook_mode, plot\n",
    "init_notebook_mode(connected=True)\n",
    "from utils import *\n",
    "import numpy as np\n",
    "import scipy.sparse\n",
    "import math"
   ]
  },
  {
   "cell_type": "markdown",
   "metadata": {},
   "source": [
    "**Loading graphs and vectors datasets**"
   ]
  },
  {
   "cell_type": "markdown",
   "metadata": {},
   "source": [
    "### Cora dataset"
   ]
  },
  {
   "cell_type": "code",
   "execution_count": 4,
   "metadata": {
    "scrolled": true
   },
   "outputs": [
    {
     "data": {
      "application/vnd.jupyter.widget-view+json": {
       "model_id": "1cd31235469d429a889e838de3b32992",
       "version_major": 2,
       "version_minor": 0
      },
      "text/plain": [
       "HBox(children=(HTML(value=''), FloatProgress(value=0.0, max=2708.0), HTML(value='')))"
      ]
     },
     "metadata": {},
     "output_type": "display_data"
    }
   ],
   "source": [
    "G = nx.read_edgelist('../Datasets/Cora/cora_edges.txt')\n",
    "\n",
    "vect = {}\n",
    "labels = dict()\n",
    "sim_file = open(\"../Datasets/Cora/cora_features\",\"r\")\n",
    "for line in tqdm_notebook(sim_file, total=len(G.nodes()), leave=False):\n",
    "    node_id = int(line.split()[0])\n",
    "    features = np.asarray(list(map(float,line.split()[1:-1])))\n",
    "    labels[str(node_id)] = (line.split()[-1])\n",
    "    vect.update({str(node_id):features})\n",
    "sim_file.close()"
   ]
  },
  {
   "cell_type": "code",
   "execution_count": 27,
   "metadata": {},
   "outputs": [],
   "source": [
    "gt_labels = {}\n",
    "for n in G.nodes():\n",
    "    gt_labels[n] = labels[n]"
   ]
  },
  {
   "cell_type": "markdown",
   "metadata": {},
   "source": [
    "### Sinanet dataset"
   ]
  },
  {
   "cell_type": "code",
   "execution_count": 54,
   "metadata": {},
   "outputs": [
    {
     "data": {
      "application/vnd.jupyter.widget-view+json": {
       "model_id": "",
       "version_major": 2,
       "version_minor": 0
      },
      "text/plain": [
       "HBox(children=(HTML(value=''), FloatProgress(value=0.0, max=3467.0), HTML(value='')))"
      ]
     },
     "metadata": {},
     "output_type": "display_data"
    }
   ],
   "source": [
    "G = nx.read_edgelist('../Datasets/Sinanet/Sinanet-master/edge.txt')\n",
    "\n",
    "vect = {}\n",
    "sim_file = open(\"../Datasets/Sinanet/Sinanet-master/content.txt\",\"r\")\n",
    "line_iter = 1\n",
    "for line in tqdm_notebook(sim_file, total=len(G.nodes()), leave=False):\n",
    "    features = np.asarray(list(map(float,line.split())))\n",
    "    vect.update({str(line_iter):features})\n",
    "    line_iter +=1\n",
    "sim_file.close()"
   ]
  },
  {
   "cell_type": "code",
   "execution_count": 80,
   "metadata": {},
   "outputs": [
    {
     "data": {
      "application/vnd.jupyter.widget-view+json": {
       "model_id": "de947a764bd84198970446ba8c724678",
       "version_major": 2,
       "version_minor": 0
      },
      "text/plain": [
       "HBox(children=(HTML(value=''), FloatProgress(value=0.0, max=3467.0), HTML(value='')))"
      ]
     },
     "metadata": {},
     "output_type": "display_data"
    }
   ],
   "source": [
    "label_dict = dict()\n",
    "clust_file = open(\"../Datasets/Sinanet/Sinanet-master/clusters.txt\",\"r\")\n",
    "clust_iter = 0\n",
    "check = 0\n",
    "for line in tqdm_notebook(clust_file, total=len(G.nodes()), leave=False):\n",
    "    labels = np.asarray(list(map(float,line.split())))\n",
    "    for l in labels:\n",
    "        if l == 0:\n",
    "            if check == 0:\n",
    "                clust_iter += 1\n",
    "                check = 1\n",
    "        else:\n",
    "            if check == 1:\n",
    "                check = 0\n",
    "            label_dict[str(int(l))] = clust_iter\n",
    "clust_file.close()"
   ]
  },
  {
   "cell_type": "markdown",
   "metadata": {},
   "source": [
    "### Political Blogs dataset"
   ]
  },
  {
   "cell_type": "code",
   "execution_count": 5,
   "metadata": {},
   "outputs": [],
   "source": [
    "G = nx.read_gml('../Datasets/Political Blogs/polblogs.gml').to_undirected()\n",
    "\n",
    "polit_vect = {}\n",
    "for key, value in dict(G.nodes(data=True)).items():\n",
    "    appending = 0\n",
    "    if int(value['value']) == 0:\n",
    "        appending = 1\n",
    "    polit_vect.update({key: np.asarray([int(value['value']), appending])})\n",
    "    \n",
    "vect = polit_vect"
   ]
  },
  {
   "cell_type": "markdown",
   "metadata": {},
   "source": [
    "### WebKB Wisc dataset"
   ]
  },
  {
   "cell_type": "code",
   "execution_count": 5,
   "metadata": {},
   "outputs": [
    {
     "data": {
      "application/vnd.jupyter.widget-view+json": {
       "model_id": "",
       "version_major": 2,
       "version_minor": 0
      },
      "text/plain": [
       "HBox(children=(HTML(value=''), FloatProgress(value=0.0, max=230.0), HTML(value='')))"
      ]
     },
     "metadata": {},
     "output_type": "display_data"
    }
   ],
   "source": [
    "G = nx.read_edgelist('../Datasets/WebKB/Washington.cites.txt').to_undirected()\n",
    "\n",
    "label_dict = dict()\n",
    "vect = {}\n",
    "sim_file = open(\"../Datasets/WebKB/Washington.content.txt\",\"r\")\n",
    "for line in tqdm_notebook(sim_file, total=len(G.nodes()), leave=False):\n",
    "    node = line.split()[0]\n",
    "    label = line.split()[-1]\n",
    "    features = np.asarray(list(map(int,line.split()[1:-2])))\n",
    "    label_dict[node] = label\n",
    "    vect.update({str(node):features})\n",
    "sim_file.close()"
   ]
  },
  {
   "cell_type": "markdown",
   "metadata": {},
   "source": [
    "## LFR"
   ]
  },
  {
   "cell_type": "code",
   "execution_count": 4,
   "metadata": {},
   "outputs": [],
   "source": [
    "import random"
   ]
  },
  {
   "cell_type": "code",
   "execution_count": 180,
   "metadata": {},
   "outputs": [],
   "source": [
    "n = 1000\n",
    "tau1 = 3\n",
    "tau2 = 2\n",
    "mu = 0.1\n",
    "G_first = nx.generators.community.LFR_benchmark_graph(\n",
    "    n, tau1, tau2, mu, average_degree=100, max_degree=450, seed=11\n",
    ")\n",
    "mu = 0.4\n",
    "G_second = nx.generators.community.LFR_benchmark_graph(\n",
    "    n, tau1, tau2, mu, average_degree=150, max_degree=450, seed=15\n",
    ")\n"
   ]
  },
  {
   "cell_type": "code",
   "execution_count": 153,
   "metadata": {},
   "outputs": [],
   "source": [
    "communities = {frozenset(G_first.nodes[v]['community']) for v in G_first}"
   ]
  },
  {
   "cell_type": "code",
   "execution_count": 173,
   "metadata": {},
   "outputs": [],
   "source": [
    "for node_1 in G_second.nodes():\n",
    "    for node_2 in G_second.nodes():\n",
    "        if not G_second.has_edge(node_1,node_2) and G_first.has_edge(node_1,node_2) and G_first.nodes[node_1]['community'] == G_first.nodes[node_2]['community']:\n",
    "            G_first.remove_edge(int(node_1), int(node_2))"
   ]
  },
  {
   "cell_type": "code",
   "execution_count": 6,
   "metadata": {},
   "outputs": [],
   "source": [
    "G_first = nx.empty_graph(3000)\n",
    "G_second = nx.empty_graph(3000)\n",
    "\n",
    "counter = 0\n",
    "for edge in G_first.edges():\n",
    "    if counter % 2 == 0:\n",
    "        G_first.add_edge(edge[0], edge[1])\n",
    "    else:\n",
    "        G_second.add_edge(edge[0], edge[1])\n",
    "    counter += 1"
   ]
  },
  {
   "cell_type": "code",
   "execution_count": 45,
   "metadata": {},
   "outputs": [],
   "source": [
    "random_vect = {}\n",
    "for i in range(n):\n",
    "    features = np.random.randint(2, size=30)\n",
    "    random_vect.update({int(i):features})"
   ]
  },
  {
   "cell_type": "code",
   "execution_count": 242,
   "metadata": {},
   "outputs": [],
   "source": [
    "mu = 0.7\n",
    "tau1 = 3\n",
    "tau2 = 2"
   ]
  },
  {
   "cell_type": "code",
   "execution_count": 251,
   "metadata": {},
   "outputs": [],
   "source": [
    "G_third = nx.generators.community.LFR_benchmark_graph(\n",
    "    n, tau1, tau2, mu, average_degree=10, max_degree=150, seed=15\n",
    ")"
   ]
  },
  {
   "cell_type": "markdown",
   "metadata": {},
   "source": [
    "### Graph info"
   ]
  },
  {
   "cell_type": "code",
   "execution_count": 9,
   "metadata": {},
   "outputs": [
    {
     "name": "stdout",
     "output_type": "stream",
     "text": [
      "Number of nodes - 1000, Number of edges - 12907\n"
     ]
    }
   ],
   "source": [
    "print('Number of nodes - {0}, Number of edges - {1}'.format(G.number_of_nodes(), G.number_of_edges()))\n"
   ]
  },
  {
   "cell_type": "markdown",
   "metadata": {},
   "source": [
    "### Synthetic networks\n",
    "\n",
    "### ER-BA networks"
   ]
  },
  {
   "cell_type": "code",
   "execution_count": 20,
   "metadata": {},
   "outputs": [],
   "source": [
    "G_first = nx.barabasi_albert_graph(500, 13, seed=3)\n",
    "G_second = nx.gnp_random_graph(500, 0.05, seed=5)"
   ]
  },
  {
   "cell_type": "code",
   "execution_count": 13,
   "metadata": {},
   "outputs": [
    {
     "name": "stdout",
     "output_type": "stream",
     "text": [
      "Number of nodes - 500, Number of edges - 6331\n"
     ]
    }
   ],
   "source": [
    "print('Number of nodes - {0}, Number of edges - {1}'.format(G_first.number_of_nodes(), G_first.number_of_edges()))"
   ]
  },
  {
   "cell_type": "code",
   "execution_count": 14,
   "metadata": {},
   "outputs": [
    {
     "name": "stdout",
     "output_type": "stream",
     "text": [
      "Number of nodes - 500, Number of edges - 24886\n"
     ]
    }
   ],
   "source": [
    "print('Number of nodes - {0}, Number of edges - {1}'.format(G_second.number_of_nodes(), G_second.number_of_edges()))"
   ]
  },
  {
   "cell_type": "code",
   "execution_count": 47,
   "metadata": {},
   "outputs": [],
   "source": [
    "G_first = nx.gnp_random_graph(3000, 0.1, seed=10)\n",
    "G_second = nx.gnp_random_graph(3000, 0.4, seed=7)"
   ]
  },
  {
   "cell_type": "markdown",
   "metadata": {},
   "source": [
    "### ER-Star graph"
   ]
  },
  {
   "cell_type": "code",
   "execution_count": 4,
   "metadata": {
    "scrolled": true
   },
   "outputs": [],
   "source": [
    "G_first = nx.gnp_random_graph(3000, 0.1, seed=3)\n",
    "G_second = nx.star_graph(2999)"
   ]
  },
  {
   "cell_type": "code",
   "execution_count": 67,
   "metadata": {},
   "outputs": [],
   "source": [
    "first_seq = [i+1 for i in range(100)]\n",
    "fin_first_seq = []\n",
    "fin_second_seq = []\n",
    "for i in range(100):\n",
    "    if i < 50:\n",
    "        fin_first_seq.append(first_seq[i])\n",
    "    else:\n",
    "        fin_first_seq.append(first_seq[i]-1)\n",
    "    \n",
    "fin_second_seq = list(reversed(fin_first_seq))\n"
   ]
  },
  {
   "cell_type": "code",
   "execution_count": 69,
   "metadata": {},
   "outputs": [],
   "source": [
    "G_first = nx.generators.degree_seq.havel_hakimi_graph(fin_first_seq)\n",
    "G_second = nx.generators.degree_seq.havel_hakimi_graph(fin_second_seq)"
   ]
  },
  {
   "cell_type": "code",
   "execution_count": 111,
   "metadata": {},
   "outputs": [],
   "source": [
    "G_first = nx.path_graph(100)\n",
    "G_second = nx.gnp_random_graph(100, 0.3, seed=3)"
   ]
  },
  {
   "cell_type": "code",
   "execution_count": 121,
   "metadata": {},
   "outputs": [],
   "source": [
    "G_1 = nx.complete_graph(50)\n",
    "G_2 = nx.relabel_nodes(nx.complete_graph(50), lambda x: x + 50)\n",
    "G_3 = nx.relabel_nodes(nx.complete_graph(50), lambda x: x + 100)\n",
    "\n",
    "G_first = nx.union_all([G_1,G_2,G_3])"
   ]
  },
  {
   "cell_type": "code",
   "execution_count": 122,
   "metadata": {},
   "outputs": [],
   "source": [
    "G_1 = nx.classic.cycle_graph(50)\n",
    "G_2 = nx.relabel_nodes(nx.cycle_graph(50), lambda x: x + 50)\n",
    "G_3 = nx.relabel_nodes(nx.cycle_graph(50), lambda x: x + 100)\n",
    "\n",
    "G_second = nx.union_all([G_1,G_2,G_3])"
   ]
  },
  {
   "cell_type": "markdown",
   "metadata": {},
   "source": [
    "### Edge swap"
   ]
  },
  {
   "cell_type": "code",
   "execution_count": 17,
   "metadata": {},
   "outputs": [],
   "source": [
    "G_first = nx.gnp_random_graph(500, 0.05, seed=3)\n",
    "G_second = nx.double_edge_swap(G_first.copy(), nswap = 800, max_tries = 24000)"
   ]
  },
  {
   "cell_type": "code",
   "execution_count": 49,
   "metadata": {},
   "outputs": [
    {
     "name": "stdout",
     "output_type": "stream",
     "text": [
      "Number of nodes - 500, Number of edges - 6235\n"
     ]
    }
   ],
   "source": [
    "print('Number of nodes - {0}, Number of edges - {1}'.format(G_first.number_of_nodes(), G_first.number_of_edges()))"
   ]
  },
  {
   "cell_type": "markdown",
   "metadata": {},
   "source": [
    "**Removing nodes without features**"
   ]
  },
  {
   "cell_type": "code",
   "execution_count": 82,
   "metadata": {},
   "outputs": [
    {
     "name": "stdout",
     "output_type": "stream",
     "text": [
      "Number of nodes - 1000, Number of edges - 5521\n"
     ]
    }
   ],
   "source": [
    "nodes = list(G.nodes)\n",
    "\n",
    "for node in nodes:\n",
    "    if node not in vect:\n",
    "        G.remove_node(node)\n",
    "        \n",
    "print('Number of nodes - {0}, Number of edges - {1}'.format(G.number_of_nodes(), G.number_of_edges()))"
   ]
  },
  {
   "cell_type": "markdown",
   "metadata": {},
   "source": [
    "**Removing nodes without edges**"
   ]
  },
  {
   "cell_type": "code",
   "execution_count": 83,
   "metadata": {},
   "outputs": [
    {
     "name": "stdout",
     "output_type": "stream",
     "text": [
      "Number of nodes - 1000, Number of edges - 5521\n"
     ]
    }
   ],
   "source": [
    "nodes = list(G.nodes)\n",
    "for node in nodes:\n",
    "    degree = G.degree(node)\n",
    "    if degree == 0:\n",
    "        G.remove_node(node)\n",
    "        \n",
    "print('Number of nodes - {0}, Number of edges - {1}'.format(G.number_of_nodes(), G.number_of_edges()))"
   ]
  },
  {
   "cell_type": "markdown",
   "metadata": {},
   "source": [
    "**Calculating significance normalization & common interests statistics**"
   ]
  },
  {
   "cell_type": "code",
   "execution_count": 52,
   "metadata": {},
   "outputs": [
    {
     "data": {
      "text/plain": [
       "(2.481289072818526, 1.0753005943180265)"
      ]
     },
     "execution_count": 52,
     "metadata": {},
     "output_type": "execute_result"
    }
   ],
   "source": [
    "significance_normalized_vect, omega = significance_normalization(vect)\n",
    "\n",
    "_, mu, sigma = calc_common_interests_stats(G_first, vect)\n",
    "mu, sigma"
   ]
  },
  {
   "cell_type": "markdown",
   "metadata": {},
   "source": [
    "#### Weighted graphs for synthetic data"
   ]
  },
  {
   "cell_type": "code",
   "execution_count": 9,
   "metadata": {},
   "outputs": [
    {
     "name": "stdout",
     "output_type": "stream",
     "text": [
      "Graph is weighted - True\n",
      "Graph is weighted - True\n"
     ]
    }
   ],
   "source": [
    "for e in G_first.edges():\n",
    "    G_first[e[0]][e[1]]['weight'] = 1\n",
    "    \n",
    "print('Graph is weighted - {0}'.format(nx.is_weighted(G_first)))\n",
    "\n",
    "\n",
    "for e in G_second.edges():\n",
    "    G_second[e[0]][e[1]]['weight'] = 1\n",
    "    \n",
    "print('Graph is weighted - {0}'.format(nx.is_weighted(G_second)))"
   ]
  },
  {
   "cell_type": "markdown",
   "metadata": {},
   "source": [
    "## Normalize"
   ]
  },
  {
   "cell_type": "code",
   "execution_count": 58,
   "metadata": {},
   "outputs": [],
   "source": [
    "f_weight = G_first.size(weight='weight')\n",
    "\n",
    "for e in G_first.edges():\n",
    "    G_first[e[0]][e[1]]['weight'] = 1/f_weight\n",
    "    "
   ]
  },
  {
   "cell_type": "code",
   "execution_count": 56,
   "metadata": {},
   "outputs": [
    {
     "name": "stdout",
     "output_type": "stream",
     "text": [
      "Graph is weighted - True\n",
      "Graph is weighted - True\n",
      "Graph is weighted - True\n"
     ]
    }
   ],
   "source": [
    "for e in G_first.edges():\n",
    "    G_first[e[0]][e[1]]['weight'] = 1\n",
    "    \n",
    "print('Graph is weighted - {0}'.format(nx.is_weighted(G_first)))\n",
    "\n",
    "for e in G_second.edges():\n",
    "    G_second[e[0]][e[1]]['weight'] = 1\n",
    "    \n",
    "print('Graph is weighted - {0}'.format(nx.is_weighted(G_second)))\n",
    "\n",
    "for e in G_third.edges():\n",
    "    G_third[e[0]][e[1]]['weight'] = 1\n",
    "    \n",
    "print('Graph is weighted - {0}'.format(nx.is_weighted(G_third)))"
   ]
  },
  {
   "cell_type": "code",
   "execution_count": 57,
   "metadata": {},
   "outputs": [
    {
     "data": {
      "application/vnd.jupyter.widget-view+json": {
       "model_id": "",
       "version_major": 2,
       "version_minor": 0
      },
      "text/plain": [
       "HBox(children=(HTML(value=''), FloatProgress(value=0.0, max=50877.0), HTML(value='')))"
      ]
     },
     "metadata": {},
     "output_type": "display_data"
    },
    {
     "data": {
      "application/vnd.jupyter.widget-view+json": {
       "model_id": "",
       "version_major": 2,
       "version_minor": 0
      },
      "text/plain": [
       "HBox(children=(HTML(value=''), FloatProgress(value=0.0, max=50047.0), HTML(value='')))"
      ]
     },
     "metadata": {},
     "output_type": "display_data"
    }
   ],
   "source": [
    "G_second_f = create_weighted_graph_from_two_graphs(G_second, G_third, alpha=0.45)"
   ]
  },
  {
   "cell_type": "markdown",
   "metadata": {},
   "source": [
    "**Creating weighted graph**"
   ]
  },
  {
   "cell_type": "code",
   "execution_count": 47,
   "metadata": {
    "scrolled": true
   },
   "outputs": [
    {
     "name": "stdout",
     "output_type": "stream",
     "text": [
      "Graph is weighted - True\n"
     ]
    }
   ],
   "source": [
    "modified_G = G.copy()\n",
    "\n",
    "for e in modified_G.edges():\n",
    "    modified_G[e[0]][e[1]]['weight'] = 1\n",
    "    \n",
    "print('Graph is weighted - {0}'.format(nx.is_weighted(modified_G)))"
   ]
  },
  {
   "cell_type": "markdown",
   "metadata": {},
   "source": [
    "**If topology is not fixed and similarity matrix file doesn't exist, then calculating similarity matrix and saving it in the file**"
   ]
  },
  {
   "cell_type": "code",
   "execution_count": 54,
   "metadata": {},
   "outputs": [
    {
     "data": {
      "application/vnd.jupyter.widget-view+json": {
       "model_id": "",
       "version_major": 2,
       "version_minor": 0
      },
      "text/plain": [
       "HBox(children=(HTML(value=''), FloatProgress(value=0.0, max=3000.0), HTML(value='')))"
      ]
     },
     "metadata": {},
     "output_type": "display_data"
    }
   ],
   "source": [
    "fixed_topology = False\n",
    "similarity_file_exists = False\n",
    "\n",
    "similarity_matrix_file_name = 'similarity_matrix_finals_corr_leid_1.txt'\n",
    "if (fixed_topology == False and similarity_file_exists == False):\n",
    "    not_fixed_topology_graph(G_first, vect, omega, cosine_sim, similarity_matrix_file_name)  "
   ]
  },
  {
   "cell_type": "markdown",
   "metadata": {},
   "source": [
    "#### Constructing graph from the vector data"
   ]
  },
  {
   "cell_type": "code",
   "execution_count": 55,
   "metadata": {},
   "outputs": [],
   "source": [
    "attr_G = nx.Graph()"
   ]
  },
  {
   "cell_type": "code",
   "execution_count": 50,
   "metadata": {},
   "outputs": [
    {
     "data": {
      "application/vnd.jupyter.widget-view+json": {
       "model_id": "",
       "version_major": 2,
       "version_minor": 0
      },
      "text/plain": [
       "HBox(children=(HTML(value=''), FloatProgress(value=0.0, max=12056.0), HTML(value='')))"
      ]
     },
     "metadata": {},
     "output_type": "display_data"
    }
   ],
   "source": [
    "from random import shuffle\n",
    "\n",
    "sim_file = open(similarity_matrix_file_name,\"r\")\n",
    "for line in tqdm_notebook(sim_file, total=len(G.nodes()), leave=False):\n",
    "    sim_tuple = eval(line)\n",
    "    node = sim_tuple[0]\n",
    "    res_tuple = sim_tuple[1][1:]\n",
    "    for i in range(len(G.nodes())-1):\n",
    "        if node != res_tuple[i][0]:\n",
    "            if not attr_G.has_edge(node, res_tuple[i][0]):\n",
    "                attr_G.add_edge(node, res_tuple[i][0], weight=res_tuple[i][1])\n",
    "sim_file.close()"
   ]
  },
  {
   "cell_type": "code",
   "execution_count": 57,
   "metadata": {},
   "outputs": [
    {
     "name": "stdout",
     "output_type": "stream",
     "text": [
      "Number of nodes - 3000, Number of edges - 4498500\n"
     ]
    }
   ],
   "source": [
    "print('Number of nodes - {0}, Number of edges - {1}'.format(attr_G.number_of_nodes(), attr_G.number_of_edges()))"
   ]
  },
  {
   "cell_type": "code",
   "execution_count": 58,
   "metadata": {},
   "outputs": [
    {
     "data": {
      "text/plain": [
       "77402.66685016255"
      ]
     },
     "execution_count": 58,
     "metadata": {},
     "output_type": "execute_result"
    }
   ],
   "source": [
    "attr_G.size(weight='weight')"
   ]
  },
  {
   "cell_type": "code",
   "execution_count": 53,
   "metadata": {
    "scrolled": true
   },
   "outputs": [
    {
     "data": {
      "text/plain": [
       "72667540"
      ]
     },
     "execution_count": 53,
     "metadata": {},
     "output_type": "execute_result"
    }
   ],
   "source": [
    "attr_G.size()"
   ]
  },
  {
   "cell_type": "markdown",
   "metadata": {},
   "source": [
    "**Detecting communities and metrics calculation, based on input parameters**"
   ]
  },
  {
   "cell_type": "code",
   "execution_count": 25,
   "metadata": {},
   "outputs": [],
   "source": [
    "alphas =  np.arange(0.0,1.05,0.05)"
   ]
  },
  {
   "cell_type": "code",
   "execution_count": 176,
   "metadata": {
    "scrolled": true
   },
   "outputs": [
    {
     "data": {
      "application/vnd.jupyter.widget-view+json": {
       "model_id": "5a7c64532902473abad1454dac23d4c5",
       "version_major": 2,
       "version_minor": 0
      },
      "text/plain": [
       "HBox(children=(HTML(value=''), FloatProgress(value=0.0, max=1.0), HTML(value='')))"
      ]
     },
     "metadata": {},
     "output_type": "display_data"
    },
    {
     "data": {
      "application/vnd.jupyter.widget-view+json": {
       "model_id": "",
       "version_major": 2,
       "version_minor": 0
      },
      "text/plain": [
       "HBox(children=(HTML(value=''), FloatProgress(value=0.0, max=21.0), HTML(value='')))"
      ]
     },
     "metadata": {},
     "output_type": "display_data"
    },
    {
     "data": {
      "application/vnd.jupyter.widget-view+json": {
       "model_id": "",
       "version_major": 2,
       "version_minor": 0
      },
      "text/plain": [
       "HBox(children=(HTML(value=''), FloatProgress(value=0.0, max=1.0), HTML(value='')))"
      ]
     },
     "metadata": {},
     "output_type": "display_data"
    },
    {
     "data": {
      "application/vnd.jupyter.widget-view+json": {
       "model_id": "",
       "version_major": 2,
       "version_minor": 0
      },
      "text/plain": [
       "HBox(children=(HTML(value=''), FloatProgress(value=0.0, max=98266.0), HTML(value='')))"
      ]
     },
     "metadata": {},
     "output_type": "display_data"
    },
    {
     "data": {
      "application/vnd.jupyter.widget-view+json": {
       "model_id": "",
       "version_major": 2,
       "version_minor": 0
      },
      "text/plain": [
       "HBox(children=(HTML(value=''), FloatProgress(value=0.0, max=19388.0), HTML(value='')))"
      ]
     },
     "metadata": {},
     "output_type": "display_data"
    },
    {
     "name": "stdout",
     "output_type": "stream",
     "text": [
      "kek\n",
      "NX Write Done in 0.6373229026794434\n",
      "IG Read Done in 0.5145978927612305\n",
      "Done\n",
      "Leiden Finished in 0.14263248443603516\n",
      "1000\n",
      "Leiden Finished in 0.14760589599609375\n",
      "1000\n",
      "Leiden Finished in 0.17554759979248047\n",
      "1000\n",
      "Leiden Finished in 0.09578323364257812\n",
      "1000\n",
      "Leiden Finished in 0.10671401023864746\n",
      "1000\n"
     ]
    },
    {
     "data": {
      "application/vnd.jupyter.widget-view+json": {
       "model_id": "",
       "version_major": 2,
       "version_minor": 0
      },
      "text/plain": [
       "HBox(children=(HTML(value=''), FloatProgress(value=0.0, max=1.0), HTML(value='')))"
      ]
     },
     "metadata": {},
     "output_type": "display_data"
    },
    {
     "data": {
      "application/vnd.jupyter.widget-view+json": {
       "model_id": "",
       "version_major": 2,
       "version_minor": 0
      },
      "text/plain": [
       "HBox(children=(HTML(value=''), FloatProgress(value=0.0, max=98266.0), HTML(value='')))"
      ]
     },
     "metadata": {},
     "output_type": "display_data"
    },
    {
     "data": {
      "application/vnd.jupyter.widget-view+json": {
       "model_id": "",
       "version_major": 2,
       "version_minor": 0
      },
      "text/plain": [
       "HBox(children=(HTML(value=''), FloatProgress(value=0.0, max=19388.0), HTML(value='')))"
      ]
     },
     "metadata": {},
     "output_type": "display_data"
    },
    {
     "name": "stdout",
     "output_type": "stream",
     "text": [
      "kek\n",
      "NX Write Done in 0.632225751876831\n",
      "IG Read Done in 0.5196089744567871\n",
      "Done\n",
      "Leiden Finished in 0.14667391777038574\n",
      "1000\n",
      "Leiden Finished in 0.11668705940246582\n",
      "1000\n",
      "Leiden Finished in 0.10372281074523926\n",
      "1000\n",
      "Leiden Finished in 0.12267160415649414\n",
      "1000\n",
      "Leiden Finished in 0.10671377182006836\n",
      "1000\n"
     ]
    },
    {
     "data": {
      "application/vnd.jupyter.widget-view+json": {
       "model_id": "",
       "version_major": 2,
       "version_minor": 0
      },
      "text/plain": [
       "HBox(children=(HTML(value=''), FloatProgress(value=0.0, max=1.0), HTML(value='')))"
      ]
     },
     "metadata": {},
     "output_type": "display_data"
    },
    {
     "data": {
      "application/vnd.jupyter.widget-view+json": {
       "model_id": "",
       "version_major": 2,
       "version_minor": 0
      },
      "text/plain": [
       "HBox(children=(HTML(value=''), FloatProgress(value=0.0, max=98266.0), HTML(value='')))"
      ]
     },
     "metadata": {},
     "output_type": "display_data"
    },
    {
     "data": {
      "application/vnd.jupyter.widget-view+json": {
       "model_id": "",
       "version_major": 2,
       "version_minor": 0
      },
      "text/plain": [
       "HBox(children=(HTML(value=''), FloatProgress(value=0.0, max=19388.0), HTML(value='')))"
      ]
     },
     "metadata": {},
     "output_type": "display_data"
    },
    {
     "name": "stdout",
     "output_type": "stream",
     "text": [
      "kek\n",
      "NX Write Done in 0.6482656002044678\n",
      "IG Read Done in 0.49567437171936035\n",
      "Done\n",
      "Leiden Finished in 0.11768531799316406\n",
      "1000\n",
      "Leiden Finished in 0.09973335266113281\n",
      "1000\n",
      "Leiden Finished in 0.09886789321899414\n",
      "1000\n",
      "Leiden Finished in 0.10073041915893555\n",
      "1000\n",
      "Leiden Finished in 0.0857706069946289\n",
      "1000\n"
     ]
    },
    {
     "data": {
      "application/vnd.jupyter.widget-view+json": {
       "model_id": "",
       "version_major": 2,
       "version_minor": 0
      },
      "text/plain": [
       "HBox(children=(HTML(value=''), FloatProgress(value=0.0, max=1.0), HTML(value='')))"
      ]
     },
     "metadata": {},
     "output_type": "display_data"
    },
    {
     "data": {
      "application/vnd.jupyter.widget-view+json": {
       "model_id": "",
       "version_major": 2,
       "version_minor": 0
      },
      "text/plain": [
       "HBox(children=(HTML(value=''), FloatProgress(value=0.0, max=98266.0), HTML(value='')))"
      ]
     },
     "metadata": {},
     "output_type": "display_data"
    },
    {
     "data": {
      "application/vnd.jupyter.widget-view+json": {
       "model_id": "",
       "version_major": 2,
       "version_minor": 0
      },
      "text/plain": [
       "HBox(children=(HTML(value=''), FloatProgress(value=0.0, max=19388.0), HTML(value='')))"
      ]
     },
     "metadata": {},
     "output_type": "display_data"
    },
    {
     "name": "stdout",
     "output_type": "stream",
     "text": [
      "kek\n",
      "NX Write Done in 0.5914201736450195\n",
      "IG Read Done in 0.49271678924560547\n",
      "Done\n",
      "Leiden Finished in 0.14557576179504395\n",
      "1000\n",
      "Leiden Finished in 0.15203642845153809\n",
      "1000\n",
      "Leiden Finished in 0.11565995216369629\n",
      "1000\n",
      "Leiden Finished in 0.1476154327392578\n",
      "1000\n",
      "Leiden Finished in 0.1715373992919922\n",
      "1000\n"
     ]
    },
    {
     "data": {
      "application/vnd.jupyter.widget-view+json": {
       "model_id": "",
       "version_major": 2,
       "version_minor": 0
      },
      "text/plain": [
       "HBox(children=(HTML(value=''), FloatProgress(value=0.0, max=1.0), HTML(value='')))"
      ]
     },
     "metadata": {},
     "output_type": "display_data"
    },
    {
     "data": {
      "application/vnd.jupyter.widget-view+json": {
       "model_id": "",
       "version_major": 2,
       "version_minor": 0
      },
      "text/plain": [
       "HBox(children=(HTML(value=''), FloatProgress(value=0.0, max=98266.0), HTML(value='')))"
      ]
     },
     "metadata": {},
     "output_type": "display_data"
    },
    {
     "data": {
      "application/vnd.jupyter.widget-view+json": {
       "model_id": "",
       "version_major": 2,
       "version_minor": 0
      },
      "text/plain": [
       "HBox(children=(HTML(value=''), FloatProgress(value=0.0, max=19388.0), HTML(value='')))"
      ]
     },
     "metadata": {},
     "output_type": "display_data"
    },
    {
     "name": "stdout",
     "output_type": "stream",
     "text": [
      "kek\n",
      "NX Write Done in 0.7141213417053223\n",
      "IG Read Done in 0.5673060417175293\n",
      "Done\n",
      "Leiden Finished in 0.16207170486450195\n",
      "1000\n",
      "Leiden Finished in 0.11768722534179688\n",
      "1000\n",
      "Leiden Finished in 0.11967968940734863\n",
      "1000\n",
      "Leiden Finished in 0.1685483455657959\n",
      "1000\n",
      "Leiden Finished in 0.13464021682739258\n",
      "1000\n"
     ]
    },
    {
     "data": {
      "application/vnd.jupyter.widget-view+json": {
       "model_id": "",
       "version_major": 2,
       "version_minor": 0
      },
      "text/plain": [
       "HBox(children=(HTML(value=''), FloatProgress(value=0.0, max=1.0), HTML(value='')))"
      ]
     },
     "metadata": {},
     "output_type": "display_data"
    },
    {
     "data": {
      "application/vnd.jupyter.widget-view+json": {
       "model_id": "",
       "version_major": 2,
       "version_minor": 0
      },
      "text/plain": [
       "HBox(children=(HTML(value=''), FloatProgress(value=0.0, max=98266.0), HTML(value='')))"
      ]
     },
     "metadata": {},
     "output_type": "display_data"
    },
    {
     "data": {
      "application/vnd.jupyter.widget-view+json": {
       "model_id": "",
       "version_major": 2,
       "version_minor": 0
      },
      "text/plain": [
       "HBox(children=(HTML(value=''), FloatProgress(value=0.0, max=19388.0), HTML(value='')))"
      ]
     },
     "metadata": {},
     "output_type": "display_data"
    },
    {
     "name": "stdout",
     "output_type": "stream",
     "text": [
      "kek\n",
      "NX Write Done in 0.7180905342102051\n",
      "IG Read Done in 0.5502593517303467\n",
      "Done\n",
      "Leiden Finished in 0.1490616798400879\n",
      "1000\n",
      "Leiden Finished in 0.19650936126708984\n",
      "1000\n",
      "Leiden Finished in 0.18505501747131348\n",
      "1000\n",
      "Leiden Finished in 0.14162945747375488\n",
      "1000\n",
      "Leiden Finished in 0.21007370948791504\n",
      "1000\n"
     ]
    },
    {
     "data": {
      "application/vnd.jupyter.widget-view+json": {
       "model_id": "",
       "version_major": 2,
       "version_minor": 0
      },
      "text/plain": [
       "HBox(children=(HTML(value=''), FloatProgress(value=0.0, max=1.0), HTML(value='')))"
      ]
     },
     "metadata": {},
     "output_type": "display_data"
    },
    {
     "data": {
      "application/vnd.jupyter.widget-view+json": {
       "model_id": "",
       "version_major": 2,
       "version_minor": 0
      },
      "text/plain": [
       "HBox(children=(HTML(value=''), FloatProgress(value=0.0, max=98266.0), HTML(value='')))"
      ]
     },
     "metadata": {},
     "output_type": "display_data"
    },
    {
     "data": {
      "application/vnd.jupyter.widget-view+json": {
       "model_id": "",
       "version_major": 2,
       "version_minor": 0
      },
      "text/plain": [
       "HBox(children=(HTML(value=''), FloatProgress(value=0.0, max=19388.0), HTML(value='')))"
      ]
     },
     "metadata": {},
     "output_type": "display_data"
    },
    {
     "name": "stdout",
     "output_type": "stream",
     "text": [
      "kek\n",
      "NX Write Done in 0.7639625072479248\n",
      "IG Read Done in 0.5608596801757812\n",
      "Done\n",
      "Leiden Finished in 0.29569482803344727\n",
      "1000\n",
      "Leiden Finished in 0.21445202827453613\n",
      "1000\n",
      "Leiden Finished in 0.2104511260986328\n",
      "1000\n",
      "Leiden Finished in 0.1854710578918457\n",
      "1000\n",
      "Leiden Finished in 0.21444272994995117\n",
      "1000\n"
     ]
    },
    {
     "data": {
      "application/vnd.jupyter.widget-view+json": {
       "model_id": "",
       "version_major": 2,
       "version_minor": 0
      },
      "text/plain": [
       "HBox(children=(HTML(value=''), FloatProgress(value=0.0, max=1.0), HTML(value='')))"
      ]
     },
     "metadata": {},
     "output_type": "display_data"
    },
    {
     "data": {
      "application/vnd.jupyter.widget-view+json": {
       "model_id": "",
       "version_major": 2,
       "version_minor": 0
      },
      "text/plain": [
       "HBox(children=(HTML(value=''), FloatProgress(value=0.0, max=98266.0), HTML(value='')))"
      ]
     },
     "metadata": {},
     "output_type": "display_data"
    },
    {
     "data": {
      "application/vnd.jupyter.widget-view+json": {
       "model_id": "",
       "version_major": 2,
       "version_minor": 0
      },
      "text/plain": [
       "HBox(children=(HTML(value=''), FloatProgress(value=0.0, max=19388.0), HTML(value='')))"
      ]
     },
     "metadata": {},
     "output_type": "display_data"
    },
    {
     "name": "stdout",
     "output_type": "stream",
     "text": [
      "kek\n",
      "NX Write Done in 0.577486515045166\n",
      "IG Read Done in 0.519650936126709\n",
      "Done\n",
      "Leiden Finished in 0.14760637283325195\n",
      "1000\n",
      "Leiden Finished in 0.16554951667785645\n",
      "1000\n",
      "Leiden Finished in 0.14860105514526367\n",
      "1000\n",
      "Leiden Finished in 0.26433253288269043\n",
      "1000\n",
      "Leiden Finished in 0.3339223861694336\n",
      "1000\n"
     ]
    },
    {
     "data": {
      "application/vnd.jupyter.widget-view+json": {
       "model_id": "",
       "version_major": 2,
       "version_minor": 0
      },
      "text/plain": [
       "HBox(children=(HTML(value=''), FloatProgress(value=0.0, max=1.0), HTML(value='')))"
      ]
     },
     "metadata": {},
     "output_type": "display_data"
    },
    {
     "data": {
      "application/vnd.jupyter.widget-view+json": {
       "model_id": "",
       "version_major": 2,
       "version_minor": 0
      },
      "text/plain": [
       "HBox(children=(HTML(value=''), FloatProgress(value=0.0, max=98266.0), HTML(value='')))"
      ]
     },
     "metadata": {},
     "output_type": "display_data"
    },
    {
     "data": {
      "application/vnd.jupyter.widget-view+json": {
       "model_id": "",
       "version_major": 2,
       "version_minor": 0
      },
      "text/plain": [
       "HBox(children=(HTML(value=''), FloatProgress(value=0.0, max=19388.0), HTML(value='')))"
      ]
     },
     "metadata": {},
     "output_type": "display_data"
    },
    {
     "name": "stdout",
     "output_type": "stream",
     "text": [
      "kek\n",
      "NX Write Done in 0.6413164138793945\n",
      "IG Read Done in 0.5518887042999268\n",
      "Done\n",
      "Leiden Finished in 0.24141597747802734\n",
      "1000\n",
      "Leiden Finished in 0.2124319076538086\n",
      "1000\n",
      "Leiden Finished in 0.14959979057312012\n",
      "1000\n",
      "Leiden Finished in 0.22344374656677246\n",
      "1000\n",
      "Leiden Finished in 0.17054390907287598\n",
      "1000\n"
     ]
    },
    {
     "data": {
      "application/vnd.jupyter.widget-view+json": {
       "model_id": "",
       "version_major": 2,
       "version_minor": 0
      },
      "text/plain": [
       "HBox(children=(HTML(value=''), FloatProgress(value=0.0, max=1.0), HTML(value='')))"
      ]
     },
     "metadata": {},
     "output_type": "display_data"
    },
    {
     "data": {
      "application/vnd.jupyter.widget-view+json": {
       "model_id": "",
       "version_major": 2,
       "version_minor": 0
      },
      "text/plain": [
       "HBox(children=(HTML(value=''), FloatProgress(value=0.0, max=98266.0), HTML(value='')))"
      ]
     },
     "metadata": {},
     "output_type": "display_data"
    },
    {
     "data": {
      "application/vnd.jupyter.widget-view+json": {
       "model_id": "",
       "version_major": 2,
       "version_minor": 0
      },
      "text/plain": [
       "HBox(children=(HTML(value=''), FloatProgress(value=0.0, max=19388.0), HTML(value='')))"
      ]
     },
     "metadata": {},
     "output_type": "display_data"
    },
    {
     "name": "stdout",
     "output_type": "stream",
     "text": [
      "kek\n",
      "NX Write Done in 0.7480056285858154\n",
      "IG Read Done in 0.590465784072876\n",
      "Done\n",
      "Leiden Finished in 0.17715740203857422\n",
      "1000\n",
      "Leiden Finished in 0.21438837051391602\n",
      "1000\n",
      "Leiden Finished in 0.2872326374053955\n",
      "1000\n",
      "Leiden Finished in 0.26030397415161133\n",
      "1000\n",
      "Leiden Finished in 0.2532837390899658\n",
      "1000\n"
     ]
    },
    {
     "data": {
      "application/vnd.jupyter.widget-view+json": {
       "model_id": "",
       "version_major": 2,
       "version_minor": 0
      },
      "text/plain": [
       "HBox(children=(HTML(value=''), FloatProgress(value=0.0, max=1.0), HTML(value='')))"
      ]
     },
     "metadata": {},
     "output_type": "display_data"
    },
    {
     "data": {
      "application/vnd.jupyter.widget-view+json": {
       "model_id": "",
       "version_major": 2,
       "version_minor": 0
      },
      "text/plain": [
       "HBox(children=(HTML(value=''), FloatProgress(value=0.0, max=98266.0), HTML(value='')))"
      ]
     },
     "metadata": {},
     "output_type": "display_data"
    },
    {
     "data": {
      "application/vnd.jupyter.widget-view+json": {
       "model_id": "",
       "version_major": 2,
       "version_minor": 0
      },
      "text/plain": [
       "HBox(children=(HTML(value=''), FloatProgress(value=0.0, max=19388.0), HTML(value='')))"
      ]
     },
     "metadata": {},
     "output_type": "display_data"
    },
    {
     "name": "stdout",
     "output_type": "stream",
     "text": [
      "kek\n",
      "NX Write Done in 0.6582369804382324\n",
      "IG Read Done in 0.5754821300506592\n",
      "Done\n",
      "Leiden Finished in 0.2865476608276367\n",
      "1000\n",
      "Leiden Finished in 0.2735579013824463\n",
      "1000\n",
      "Leiden Finished in 0.33519816398620605\n",
      "1000\n",
      "Leiden Finished in 0.2064516544342041\n",
      "1000\n",
      "Leiden Finished in 0.17055845260620117\n",
      "1000\n"
     ]
    },
    {
     "data": {
      "application/vnd.jupyter.widget-view+json": {
       "model_id": "",
       "version_major": 2,
       "version_minor": 0
      },
      "text/plain": [
       "HBox(children=(HTML(value=''), FloatProgress(value=0.0, max=1.0), HTML(value='')))"
      ]
     },
     "metadata": {},
     "output_type": "display_data"
    },
    {
     "data": {
      "application/vnd.jupyter.widget-view+json": {
       "model_id": "",
       "version_major": 2,
       "version_minor": 0
      },
      "text/plain": [
       "HBox(children=(HTML(value=''), FloatProgress(value=0.0, max=98266.0), HTML(value='')))"
      ]
     },
     "metadata": {},
     "output_type": "display_data"
    },
    {
     "data": {
      "application/vnd.jupyter.widget-view+json": {
       "model_id": "",
       "version_major": 2,
       "version_minor": 0
      },
      "text/plain": [
       "HBox(children=(HTML(value=''), FloatProgress(value=0.0, max=19388.0), HTML(value='')))"
      ]
     },
     "metadata": {},
     "output_type": "display_data"
    },
    {
     "name": "stdout",
     "output_type": "stream",
     "text": [
      "kek\n",
      "NX Write Done in 0.662226676940918\n",
      "IG Read Done in 0.5455412864685059\n",
      "Done\n",
      "Leiden Finished in 0.17740631103515625\n",
      "1000\n",
      "Leiden Finished in 0.1685466766357422\n",
      "1000\n",
      "Leiden Finished in 0.24933314323425293\n",
      "1000\n",
      "Leiden Finished in 0.29374003410339355\n",
      "1000\n",
      "Leiden Finished in 0.32013916969299316\n",
      "1000\n"
     ]
    },
    {
     "data": {
      "application/vnd.jupyter.widget-view+json": {
       "model_id": "",
       "version_major": 2,
       "version_minor": 0
      },
      "text/plain": [
       "HBox(children=(HTML(value=''), FloatProgress(value=0.0, max=1.0), HTML(value='')))"
      ]
     },
     "metadata": {},
     "output_type": "display_data"
    },
    {
     "data": {
      "application/vnd.jupyter.widget-view+json": {
       "model_id": "",
       "version_major": 2,
       "version_minor": 0
      },
      "text/plain": [
       "HBox(children=(HTML(value=''), FloatProgress(value=0.0, max=98266.0), HTML(value='')))"
      ]
     },
     "metadata": {},
     "output_type": "display_data"
    },
    {
     "data": {
      "application/vnd.jupyter.widget-view+json": {
       "model_id": "",
       "version_major": 2,
       "version_minor": 0
      },
      "text/plain": [
       "HBox(children=(HTML(value=''), FloatProgress(value=0.0, max=19388.0), HTML(value='')))"
      ]
     },
     "metadata": {},
     "output_type": "display_data"
    },
    {
     "name": "stdout",
     "output_type": "stream",
     "text": [
      "kek\n",
      "NX Write Done in 0.8487319946289062\n",
      "IG Read Done in 0.6423094272613525\n",
      "Done\n",
      "Leiden Finished in 0.19448447227478027\n",
      "1000\n",
      "Leiden Finished in 0.24634075164794922\n",
      "1000\n",
      "Leiden Finished in 0.24035906791687012\n",
      "1000\n",
      "Leiden Finished in 0.22037959098815918\n",
      "1000\n",
      "Leiden Finished in 0.21244120597839355\n",
      "1000\n"
     ]
    },
    {
     "data": {
      "application/vnd.jupyter.widget-view+json": {
       "model_id": "",
       "version_major": 2,
       "version_minor": 0
      },
      "text/plain": [
       "HBox(children=(HTML(value=''), FloatProgress(value=0.0, max=1.0), HTML(value='')))"
      ]
     },
     "metadata": {},
     "output_type": "display_data"
    },
    {
     "data": {
      "application/vnd.jupyter.widget-view+json": {
       "model_id": "",
       "version_major": 2,
       "version_minor": 0
      },
      "text/plain": [
       "HBox(children=(HTML(value=''), FloatProgress(value=0.0, max=98266.0), HTML(value='')))"
      ]
     },
     "metadata": {},
     "output_type": "display_data"
    },
    {
     "data": {
      "application/vnd.jupyter.widget-view+json": {
       "model_id": "",
       "version_major": 2,
       "version_minor": 0
      },
      "text/plain": [
       "HBox(children=(HTML(value=''), FloatProgress(value=0.0, max=19388.0), HTML(value='')))"
      ]
     },
     "metadata": {},
     "output_type": "display_data"
    },
    {
     "name": "stdout",
     "output_type": "stream",
     "text": [
      "kek\n",
      "NX Write Done in 0.6991410255432129\n",
      "IG Read Done in 0.5534787178039551\n",
      "Done\n",
      "Leiden Finished in 0.34993791580200195\n",
      "1000\n",
      "Leiden Finished in 0.18350839614868164\n",
      "1000\n",
      "Leiden Finished in 0.23043322563171387\n",
      "1000\n",
      "Leiden Finished in 0.14760923385620117\n",
      "1000\n",
      "Leiden Finished in 0.17154240608215332\n",
      "1000\n"
     ]
    },
    {
     "data": {
      "application/vnd.jupyter.widget-view+json": {
       "model_id": "",
       "version_major": 2,
       "version_minor": 0
      },
      "text/plain": [
       "HBox(children=(HTML(value=''), FloatProgress(value=0.0, max=1.0), HTML(value='')))"
      ]
     },
     "metadata": {},
     "output_type": "display_data"
    },
    {
     "data": {
      "application/vnd.jupyter.widget-view+json": {
       "model_id": "",
       "version_major": 2,
       "version_minor": 0
      },
      "text/plain": [
       "HBox(children=(HTML(value=''), FloatProgress(value=0.0, max=98266.0), HTML(value='')))"
      ]
     },
     "metadata": {},
     "output_type": "display_data"
    },
    {
     "data": {
      "application/vnd.jupyter.widget-view+json": {
       "model_id": "",
       "version_major": 2,
       "version_minor": 0
      },
      "text/plain": [
       "HBox(children=(HTML(value=''), FloatProgress(value=0.0, max=19388.0), HTML(value='')))"
      ]
     },
     "metadata": {},
     "output_type": "display_data"
    },
    {
     "name": "stdout",
     "output_type": "stream",
     "text": [
      "kek\n",
      "NX Write Done in 0.6632261276245117\n",
      "IG Read Done in 0.5453674793243408\n",
      "Done\n",
      "Leiden Finished in 0.2647695541381836\n",
      "1000\n",
      "Leiden Finished in 0.40296220779418945\n",
      "1000\n",
      "Leiden Finished in 0.3407931327819824\n",
      "1000\n",
      "Leiden Finished in 0.2293870449066162\n",
      "1000\n",
      "Leiden Finished in 0.2732431888580322\n",
      "1000\n"
     ]
    },
    {
     "data": {
      "application/vnd.jupyter.widget-view+json": {
       "model_id": "",
       "version_major": 2,
       "version_minor": 0
      },
      "text/plain": [
       "HBox(children=(HTML(value=''), FloatProgress(value=0.0, max=1.0), HTML(value='')))"
      ]
     },
     "metadata": {},
     "output_type": "display_data"
    },
    {
     "data": {
      "application/vnd.jupyter.widget-view+json": {
       "model_id": "",
       "version_major": 2,
       "version_minor": 0
      },
      "text/plain": [
       "HBox(children=(HTML(value=''), FloatProgress(value=0.0, max=98266.0), HTML(value='')))"
      ]
     },
     "metadata": {},
     "output_type": "display_data"
    },
    {
     "data": {
      "application/vnd.jupyter.widget-view+json": {
       "model_id": "",
       "version_major": 2,
       "version_minor": 0
      },
      "text/plain": [
       "HBox(children=(HTML(value=''), FloatProgress(value=0.0, max=19388.0), HTML(value='')))"
      ]
     },
     "metadata": {},
     "output_type": "display_data"
    },
    {
     "name": "stdout",
     "output_type": "stream",
     "text": [
      "kek\n",
      "NX Write Done in 0.6552493572235107\n",
      "IG Read Done in 0.5415806770324707\n",
      "Done\n",
      "Leiden Finished in 0.2653191089630127\n",
      "1000\n",
      "Leiden Finished in 0.27921223640441895\n",
      "1000\n",
      "Leiden Finished in 0.28220319747924805\n",
      "1000\n",
      "Leiden Finished in 0.16755175590515137\n",
      "1000\n",
      "Leiden Finished in 0.3961608409881592\n",
      "1000\n"
     ]
    },
    {
     "data": {
      "application/vnd.jupyter.widget-view+json": {
       "model_id": "",
       "version_major": 2,
       "version_minor": 0
      },
      "text/plain": [
       "HBox(children=(HTML(value=''), FloatProgress(value=0.0, max=1.0), HTML(value='')))"
      ]
     },
     "metadata": {},
     "output_type": "display_data"
    },
    {
     "data": {
      "application/vnd.jupyter.widget-view+json": {
       "model_id": "",
       "version_major": 2,
       "version_minor": 0
      },
      "text/plain": [
       "HBox(children=(HTML(value=''), FloatProgress(value=0.0, max=98266.0), HTML(value='')))"
      ]
     },
     "metadata": {},
     "output_type": "display_data"
    },
    {
     "data": {
      "application/vnd.jupyter.widget-view+json": {
       "model_id": "",
       "version_major": 2,
       "version_minor": 0
      },
      "text/plain": [
       "HBox(children=(HTML(value=''), FloatProgress(value=0.0, max=19388.0), HTML(value='')))"
      ]
     },
     "metadata": {},
     "output_type": "display_data"
    },
    {
     "name": "stdout",
     "output_type": "stream",
     "text": [
      "kek\n",
      "NX Write Done in 0.7689757347106934\n",
      "IG Read Done in 0.5851178169250488\n",
      "Done\n",
      "Leiden Finished in 0.21746158599853516\n",
      "1000\n",
      "Leiden Finished in 0.3500993251800537\n",
      "1000\n",
      "Leiden Finished in 0.2962350845336914\n",
      "1000\n",
      "Leiden Finished in 0.2253890037536621\n",
      "1000\n",
      "Leiden Finished in 0.1914689540863037\n",
      "1000\n"
     ]
    },
    {
     "data": {
      "application/vnd.jupyter.widget-view+json": {
       "model_id": "",
       "version_major": 2,
       "version_minor": 0
      },
      "text/plain": [
       "HBox(children=(HTML(value=''), FloatProgress(value=0.0, max=1.0), HTML(value='')))"
      ]
     },
     "metadata": {},
     "output_type": "display_data"
    },
    {
     "data": {
      "application/vnd.jupyter.widget-view+json": {
       "model_id": "",
       "version_major": 2,
       "version_minor": 0
      },
      "text/plain": [
       "HBox(children=(HTML(value=''), FloatProgress(value=0.0, max=98266.0), HTML(value='')))"
      ]
     },
     "metadata": {},
     "output_type": "display_data"
    },
    {
     "data": {
      "application/vnd.jupyter.widget-view+json": {
       "model_id": "",
       "version_major": 2,
       "version_minor": 0
      },
      "text/plain": [
       "HBox(children=(HTML(value=''), FloatProgress(value=0.0, max=19388.0), HTML(value='')))"
      ]
     },
     "metadata": {},
     "output_type": "display_data"
    },
    {
     "name": "stdout",
     "output_type": "stream",
     "text": [
      "kek\n",
      "NX Write Done in 0.7859363555908203\n",
      "IG Read Done in 0.5584688186645508\n",
      "Done\n",
      "Leiden Finished in 0.36983251571655273\n",
      "1000\n",
      "Leiden Finished in 0.27825498580932617\n",
      "1000\n",
      "Leiden Finished in 0.47541069984436035\n",
      "1000\n",
      "Leiden Finished in 0.28702855110168457\n",
      "1000\n",
      "Leiden Finished in 0.32782506942749023\n",
      "1000\n"
     ]
    },
    {
     "data": {
      "application/vnd.jupyter.widget-view+json": {
       "model_id": "",
       "version_major": 2,
       "version_minor": 0
      },
      "text/plain": [
       "HBox(children=(HTML(value=''), FloatProgress(value=0.0, max=1.0), HTML(value='')))"
      ]
     },
     "metadata": {},
     "output_type": "display_data"
    },
    {
     "data": {
      "application/vnd.jupyter.widget-view+json": {
       "model_id": "",
       "version_major": 2,
       "version_minor": 0
      },
      "text/plain": [
       "HBox(children=(HTML(value=''), FloatProgress(value=0.0, max=98266.0), HTML(value='')))"
      ]
     },
     "metadata": {},
     "output_type": "display_data"
    },
    {
     "data": {
      "application/vnd.jupyter.widget-view+json": {
       "model_id": "",
       "version_major": 2,
       "version_minor": 0
      },
      "text/plain": [
       "HBox(children=(HTML(value=''), FloatProgress(value=0.0, max=19388.0), HTML(value='')))"
      ]
     },
     "metadata": {},
     "output_type": "display_data"
    },
    {
     "name": "stdout",
     "output_type": "stream",
     "text": [
      "kek\n",
      "NX Write Done in 0.7100658416748047\n",
      "IG Read Done in 0.5396008491516113\n",
      "Done\n",
      "Leiden Finished in 0.2939457893371582\n",
      "1000\n",
      "Leiden Finished in 0.22136569023132324\n",
      "1000\n",
      "Leiden Finished in 0.35506510734558105\n",
      "1000\n",
      "Leiden Finished in 0.2892305850982666\n",
      "1000\n",
      "Leiden Finished in 0.3919854164123535\n",
      "1000\n"
     ]
    },
    {
     "data": {
      "application/vnd.jupyter.widget-view+json": {
       "model_id": "",
       "version_major": 2,
       "version_minor": 0
      },
      "text/plain": [
       "HBox(children=(HTML(value=''), FloatProgress(value=0.0, max=1.0), HTML(value='')))"
      ]
     },
     "metadata": {},
     "output_type": "display_data"
    },
    {
     "data": {
      "application/vnd.jupyter.widget-view+json": {
       "model_id": "",
       "version_major": 2,
       "version_minor": 0
      },
      "text/plain": [
       "HBox(children=(HTML(value=''), FloatProgress(value=0.0, max=98266.0), HTML(value='')))"
      ]
     },
     "metadata": {},
     "output_type": "display_data"
    },
    {
     "data": {
      "application/vnd.jupyter.widget-view+json": {
       "model_id": "",
       "version_major": 2,
       "version_minor": 0
      },
      "text/plain": [
       "HBox(children=(HTML(value=''), FloatProgress(value=0.0, max=19388.0), HTML(value='')))"
      ]
     },
     "metadata": {},
     "output_type": "display_data"
    },
    {
     "name": "stdout",
     "output_type": "stream",
     "text": [
      "kek\n",
      "NX Write Done in 0.6881561279296875\n",
      "IG Read Done in 0.5553035736083984\n",
      "Done\n",
      "Leiden Finished in 0.27524471282958984\n",
      "1000\n",
      "Leiden Finished in 0.2622957229614258\n",
      "1000\n",
      "Leiden Finished in 0.2612621784210205\n",
      "1000\n",
      "Leiden Finished in 0.2912154197692871\n",
      "1000\n",
      "Leiden Finished in 0.22240281105041504\n",
      "1000\n"
     ]
    },
    {
     "data": {
      "application/vnd.jupyter.widget-view+json": {
       "model_id": "",
       "version_major": 2,
       "version_minor": 0
      },
      "text/plain": [
       "HBox(children=(HTML(value=''), FloatProgress(value=0.0, max=1.0), HTML(value='')))"
      ]
     },
     "metadata": {},
     "output_type": "display_data"
    },
    {
     "data": {
      "application/vnd.jupyter.widget-view+json": {
       "model_id": "",
       "version_major": 2,
       "version_minor": 0
      },
      "text/plain": [
       "HBox(children=(HTML(value=''), FloatProgress(value=0.0, max=98266.0), HTML(value='')))"
      ]
     },
     "metadata": {},
     "output_type": "display_data"
    },
    {
     "data": {
      "application/vnd.jupyter.widget-view+json": {
       "model_id": "",
       "version_major": 2,
       "version_minor": 0
      },
      "text/plain": [
       "HBox(children=(HTML(value=''), FloatProgress(value=0.0, max=19388.0), HTML(value='')))"
      ]
     },
     "metadata": {},
     "output_type": "display_data"
    },
    {
     "name": "stdout",
     "output_type": "stream",
     "text": [
      "kek\n",
      "NX Write Done in 0.6782245635986328\n",
      "IG Read Done in 0.5425100326538086\n",
      "Done\n",
      "Leiden Finished in 0.5213234424591064\n",
      "1000\n",
      "Leiden Finished in 0.23636746406555176\n",
      "1000\n",
      "Leiden Finished in 0.3276989459991455\n",
      "1000\n",
      "Leiden Finished in 0.3829813003540039\n",
      "1000\n",
      "Leiden Finished in 0.31345438957214355\n",
      "1000\n",
      "\n"
     ]
    }
   ],
   "source": [
    "similarity_metrics = [cosine_sim]\n",
    "metric_names = ['cosine_sim']\n",
    "gaussian_weighting = [False]\n",
    "algorithm = ['leiden']\n",
    "metrics_report = []\n",
    "clusters = 0\n",
    "partition = []\n",
    "clusts = {}\n",
    "for n, similarity in enumerate(tqdm_notebook(similarity_metrics)):\n",
    "    for alpha in tqdm_notebook(alphas, leave=False):\n",
    "        for k, gaussian in enumerate(tqdm_notebook(gaussian_weighting, leave=False)):\n",
    "            for algo in algorithm:\n",
    "                fname = 'algorithm-{}||metric_name-{}||alpha-{}||gaussian_weighting-{}'.format(algo, metric_names[n], alpha, gaussian_weighting[k])\n",
    " \n",
    "                report,clusters,G,partition = calculate_metrics_graphs(G_first, G_second, alpha, algo=algo, viz=False, average=5, ground_truth=True, gt_labels=gt_labels)\n",
    "\n",
    "                report['alpha'] = alpha\n",
    "                report['algorithm'] = algo\n",
    "                metrics_report.append(report)\n",
    "                clusts.update({alpha:partition})\n"
   ]
  },
  {
   "cell_type": "markdown",
   "metadata": {},
   "source": [
    "### Save Results"
   ]
  },
  {
   "cell_type": "code",
   "execution_count": 177,
   "metadata": {},
   "outputs": [],
   "source": [
    "topology = 'f' #f - fixed, nf - not fixed\n",
    "sim = 'cos' #cos - cosine similarity, hamm - hamming similarity\n",
    "top_k = '' #kpercent - top k percent (0, 0.25, 0.5, 0.75)\n",
    "dataset = 'cora_dataset' #dataset name\n",
    "result_file_name = dataset+'_'+sim+'_'+topology+top_k+'.txt'\n",
    "hs = open(result_file_name,'w+')\n",
    "hs.write(str(metrics_report))\n",
    "hs.close()"
   ]
  },
  {
   "cell_type": "markdown",
   "metadata": {},
   "source": [
    "### Load Results"
   ]
  },
  {
   "cell_type": "code",
   "execution_count": 489,
   "metadata": {},
   "outputs": [],
   "source": [
    "hs = open(result_file_name,'r')\n",
    "\n",
    "for line in hs:\n",
    "    metrics_report = eval(line)"
   ]
  },
  {
   "cell_type": "code",
   "execution_count": 492,
   "metadata": {},
   "outputs": [],
   "source": [
    "mods_mean = []\n",
    "mods_std = []\n",
    "entropy_mean = []\n",
    "entropy_std = []\n",
    "attr_mods_mean = []\n",
    "attr_mods_std = []\n",
    "modified_mods_mean = []\n",
    "modified_mods_std = []\n",
    "\n",
    "for i in metrics_report:\n",
    "    mods_mean.append(i['modularity_mean'])\n",
    "    attr_mods_mean.append(i['attr_modularity_mean'])\n",
    "    attr_mods_std.append(i['attr_modularity_std'])\n",
    "    mods_std.append(i['modularity_std'])\n",
    "    modified_mods_mean.append(i['mod_modularity_mean'])\n",
    "    modified_mods_std.append(i['mod_modularity_std'])\n",
    "    entropy_mean.append(1 - i['graph_entropy_mean'])\n",
    "    entropy_std.append(1 - i['graph_entropy_std'])"
   ]
  },
  {
   "cell_type": "markdown",
   "metadata": {},
   "source": [
    "### Compute Modularities"
   ]
  },
  {
   "cell_type": "code",
   "execution_count": 493,
   "metadata": {},
   "outputs": [],
   "source": [
    "alphas =  np.arange(0,1.05,0.05)\n",
    "mods_sum = []\n",
    "mods_alpha = []\n",
    "mods_alpha_std = []\n",
    "attr_mods_alpha = []\n",
    "attr_mods_alpha_std = []\n",
    "mods_mix = []\n",
    "differential_mean = []\n",
    "differential_std = []\n",
    "for i in range(len(mods_mean)):\n",
    "    mods_alpha.append(mods_mean[i] * alphas[i])\n",
    "    mods_alpha_std.append(mods_std[i])\n",
    "    attr_mods_alpha.append(attr_mods_mean[i] * (1-alphas[i]))\n",
    "    attr_mods_alpha_std.append(attr_mods_std[i])    \n",
    "    mods_sum.append(mods_alpha[i] + attr_mods_alpha[i])\n",
    "    if alphas[i] == 0 or alphas[i] == 1:\n",
    "        differential_mean.append(0)\n",
    "        mods_mix.append(0)\n",
    "        differential_std.append(0)\n",
    "    else:\n",
    "        al = (2/(alphas[i] * (1-alphas[i])))\n",
    "        diff_mean = (modified_mods_mean[i] - (alphas[i] * mods_mean[i] + (1-alphas[i]) * attr_mods_mean[i]))\n",
    "        differential_mean.append(diff_mean)\n",
    "        diff_std = math.sqrt(modified_mods_std[i]**2 + (mods_alpha_std[i]**2 + attr_mods_alpha_std[i]**2))\n",
    "        differential_std.append(diff_std)\n",
    "        mix = al * diff_mean\n",
    "        mods_mix.append(mix)"
   ]
  },
  {
   "cell_type": "markdown",
   "metadata": {},
   "source": [
    "### Results plot"
   ]
  },
  {
   "cell_type": "code",
   "execution_count": 503,
   "metadata": {},
   "outputs": [
    {
     "data": {
      "application/vnd.plotly.v1+json": {
       "config": {
        "plotlyServerURL": "https://plot.ly"
       },
       "data": [
        {
         "error_y": {
          "array": [
           6.488087678556372E-4,
           8.686845807273061E-4,
           0.001494103078235079,
           6.492227470063179E-4,
           0.0010466792505555078,
           4.687730355013088E-4,
           0.0012843315443154663,
           0.0010823540597534873,
           0.0014252970278644927,
           7.940222497436787E-4,
           0.0013618753057524364,
           0.001501029859407483,
           0.0016232380650839976,
           8.690967948800938E-4,
           0.002660291148026006,
           0.0014482989411338464,
           0.001087392554542589,
           0.002640006131899618,
           0.0011276911798048979,
           0.0026960390516742754,
           0.0019331033035996272
          ],
          "type": "data"
         },
         "line": {
          "color": "crimson",
          "width": 2
         },
         "mode": "lines+markers",
         "name": "Composite WB",
         "type": "scatter",
         "x": [
          0,
          0.05,
          0.1,
          0.15000000000000002,
          0.2,
          0.25,
          0.30000000000000004,
          0.35000000000000003,
          0.4,
          0.45,
          0.5,
          0.55,
          0.6000000000000001,
          0.65,
          0.7000000000000001,
          0.75,
          0.8,
          0.8500000000000001,
          0.9,
          0.9500000000000001,
          1
         ],
         "y": [
          0.042464996022445176,
          0.04117599289107224,
          0.039983590012796895,
          0.03996503308000169,
          0.0408931405768409,
          0.042181844067318106,
          0.04579401807036384,
          0.04766945450355367,
          0.05226222098991354,
          0.05675756506606863,
          0.05970688357219552,
          0.06495030205046577,
          0.07098846344039897,
          0.07487664617167063,
          0.07978944130829937,
          0.08666998360402386,
          0.09296370023343076,
          0.09638079679157818,
          0.1042337081516197,
          0.1089064135451842,
          0.11530233609905674
         ]
        },
        {
         "error_y": {
          "array": [
           0.002134989579179191,
           0.003407424738164656,
           0.002106897061062489,
           0.0038789381915809626,
           0.0023550219451928724,
           0.0027431078652415137,
           0.002089610059447897,
           0.003107598981842483,
           0.0032880308144160593,
           0.0015866137948338094,
           0.0020785537732246695,
           0.0024162638494349712,
           0.002643232844538235,
           0.002053231350055379,
           0.0037946692765686778,
           0.0018658616796079453,
           0.0014242304853243036,
           0.0031766204596419944,
           0.0012260390076172573,
           0.0028714272026156332,
           0.001933103303599489
          ],
          "type": "data"
         },
         "line": {
          "color": "red",
          "dash": "dash",
          "width": 2
         },
         "mode": "lines+markers",
         "name": "Structural WB",
         "type": "scatter",
         "x": [
          0,
          0.05,
          0.1,
          0.15000000000000002,
          0.2,
          0.25,
          0.30000000000000004,
          0.35000000000000003,
          0.4,
          0.45,
          0.5,
          0.55,
          0.6000000000000001,
          0.65,
          0.7000000000000001,
          0.75,
          0.8,
          0.8500000000000001,
          0.9,
          0.9500000000000001,
          1
         ],
         "y": [
          0,
          6.00042473925453E-4,
          0.0028846904211185264,
          0.007056035475177457,
          0.012794217577905338,
          0.01936006317043152,
          0.026853563035151573,
          0.03352705532684697,
          0.04098644388799882,
          0.04841980561464844,
          0.05355168622478753,
          0.0606842504960265,
          0.06787766780018888,
          0.07312866900444566,
          0.07836926512482892,
          0.08588014909309383,
          0.09247841833865611,
          0.09620898494281108,
          0.10427697979554161,
          0.10893355403638234,
          0.11530233609905674
         ]
        },
        {
         "error_y": {
          "array": [
           6.488087678574099E-4,
           9.533303893917299E-4,
           0.0015493066299999295,
           8.643129297662392E-4,
           0.0017422729108865973,
           8.352467423736882E-4,
           0.0011067538343354365,
           0.0010637454010723562,
           4.849218487770832E-4,
           6.622513978198934E-4,
           0.001194470485362376,
           7.872757642331066E-4,
           0.0012959064421735503,
           0.001811616465638328,
           5.326883121534086E-4,
           6.472501424619841E-4,
           8.466435061879777E-4,
           9.113663986554598E-4,
           8.106727754924429E-4,
           7.819651603591453E-4,
           4.759961298105472E-4
          ],
          "type": "data"
         },
         "line": {
          "color": "salmon",
          "dash": "dot",
          "width": 2
         },
         "mode": "lines+markers",
         "name": "Attributive WB",
         "type": "scatter",
         "x": [
          0,
          0.05,
          0.1,
          0.15000000000000002,
          0.2,
          0.25,
          0.30000000000000004,
          0.35000000000000003,
          0.4,
          0.45,
          0.5,
          0.55,
          0.6000000000000001,
          0.65,
          0.7000000000000001,
          0.75,
          0.8,
          0.8500000000000001,
          0.9,
          0.9500000000000001,
          1
         ],
         "y": [
          0.042464996022445176,
          0.04057595041714679,
          0.03709889959167837,
          0.032908997604824235,
          0.028098922998935568,
          0.022821780896886586,
          0.018940455035212266,
          0.0141423991767067,
          0.01127577710191472,
          0.008337759451420197,
          0.006155197347407994,
          0.004266051554439272,
          0.0031107956402100893,
          0.0017479771672249654,
          0.0014201761834704563,
          7.898345109300373E-4,
          4.8528189477465276E-4,
          1.718118487671031E-4,
          -4.327164392191307E-5,
          -2.714049119814289E-5,
          0
         ]
        },
        {
         "error_y": {
          "array": [
           7.399467462902385E-4,
           3.270331464146118E-4,
           6.112465780144379E-4,
           7.300200160723543E-4,
           9.998717245587618E-4,
           5.819334458241028E-4,
           0.0010072734951205868,
           0.0010809712903775111,
           0.0014140576513268475,
           0.0011389586117958445,
           0.001204078734344959,
           0.0010067467574401995,
           0.0011365037732193528,
           0.0020367279383897816,
           0.0015555740328580833,
           9.055486026953022E-4,
           0.0011611028180159183,
           0.001014033636212701,
           0.002500324995372931,
           0.002607986819133668,
           0.0029820229788810573
          ],
          "type": "data"
         },
         "line": {
          "color": "dodgerblue",
          "width": 2
         },
         "mode": "lines+markers",
         "name": "Composite Mod. Louvain",
         "type": "scatter",
         "x": [
          0,
          0.05,
          0.1,
          0.15000000000000002,
          0.2,
          0.25,
          0.30000000000000004,
          0.35000000000000003,
          0.4,
          0.45,
          0.5,
          0.55,
          0.6000000000000001,
          0.65,
          0.7000000000000001,
          0.75,
          0.8,
          0.8500000000000001,
          0.9,
          0.9500000000000001,
          1
         ],
         "y": [
          0.043064281213965404,
          0.04152406837145965,
          0.03962740274731909,
          0.03749663365598137,
          0.03541011260587397,
          0.036402444483135746,
          0.03647829954784797,
          0.03795600826480523,
          0.0397279250806421,
          0.04138909516047367,
          0.04682598976855408,
          0.0534727726059421,
          0.059294397282474764,
          0.06695242945881723,
          0.07425922496434467,
          0.08188936012391021,
          0.08819817344641932,
          0.09567131512364477,
          0.1018088129847485,
          0.10901821114601766,
          0.11371752551751213
         ]
        },
        {
         "error_y": {
          "array": [
           0,
           1.1296912977888272E-4,
           2.8726324073069943E-4,
           3.26660131082468E-4,
           3.4946310347672794E-4,
           4.514645941526929E-4,
           0.0010982216929324754,
           9.66834321868203E-4,
           6.714979132077675E-4,
           0.0014378445070274937,
           9.195282664982173E-4,
           0.001061800746078669,
           0.0011190728958999324,
           0.001791790233816366,
           0.00185602529072538,
           7.580635402871515E-4,
           9.940857266077954E-4,
           9.317200780870796E-4,
           0.0024983519585797674,
           0.00259408091509985,
           0.0029820229788810573
          ],
          "type": "data"
         },
         "line": {
          "color": "darkblue",
          "dash": "dash",
          "width": 2
         },
         "mode": "lines+markers",
         "name": "Structural Mod. Louvain",
         "type": "scatter",
         "x": [
          0,
          0.05,
          0.1,
          0.15000000000000002,
          0.2,
          0.25,
          0.30000000000000004,
          0.35000000000000003,
          0.4,
          0.45,
          0.5,
          0.55,
          0.6000000000000001,
          0.65,
          0.7000000000000001,
          0.75,
          0.8,
          0.8500000000000001,
          0.9,
          0.9500000000000001,
          1
         ],
         "y": [
          0,
          1.7885859531666123E-4,
          7.287731169561482E-4,
          0.0018091804356014387,
          0.0022040607857908307,
          0.005271360306210145,
          0.007992882351536886,
          0.012064571838958506,
          0.016686356619168372,
          0.0220941765628813,
          0.029864580459739627,
          0.03923860896402084,
          0.04763118547676899,
          0.05840747789764348,
          0.06785485648388842,
          0.07767299603311442,
          0.08568410752368727,
          0.09433177328141415,
          0.10125318882693715,
          0.10893197341616356,
          0.11371752551751213
         ]
        },
        {
         "error_y": {
          "array": [
           7.399467462902385E-4,
           3.127454666147332E-4,
           8.730375807868487E-4,
           9.114769901747643E-4,
           6.662068357874722E-4,
           1.825014063989726E-4,
           5.305997689514908E-4,
           7.886282449580051E-4,
           8.584929877709585E-4,
           7.787753195306243E-4,
           3.5612001227973113E-4,
           2.8883218351331906E-4,
           3.882035045739039E-4,
           3.249291141734087E-4,
           3.580257699090165E-4,
           2.0406160083919433E-4,
           1.9434089727523622E-4,
           1.1946350711882431E-4,
           7.534624904403398E-5,
           4.934698217546534E-5,
           0
          ],
          "type": "data"
         },
         "line": {
          "color": "blue",
          "dash": "dot",
          "width": 2
         },
         "mode": "lines+markers",
         "name": "Attributive Mod. Louvain",
         "type": "scatter",
         "x": [
          0,
          0.05,
          0.1,
          0.15000000000000002,
          0.2,
          0.25,
          0.30000000000000004,
          0.35000000000000003,
          0.4,
          0.45,
          0.5,
          0.55,
          0.6000000000000001,
          0.65,
          0.7000000000000001,
          0.75,
          0.8,
          0.8500000000000001,
          0.9,
          0.9500000000000001,
          1
         ],
         "y": [
          0.043064281213965404,
          0.04134520977614299,
          0.03889862963036293,
          0.035687453220379924,
          0.033206051820083134,
          0.031131084176925606,
          0.028485417196311074,
          0.02589143642584673,
          0.023041568461473726,
          0.019294918597592366,
          0.01696140930881445,
          0.014234163641921257,
          0.011663211805705776,
          0.008544951561173752,
          0.006404368480456238,
          0.004216364090795799,
          0.0025140659227320694,
          0.0013395418422306154,
          5.556241578113664E-4,
          8.623772985408472E-5,
          0
         ]
        },
        {
         "line": {
          "color": "lime",
          "width": 2
         },
         "mode": "lines+markers",
         "name": "Composite Late",
         "type": "scatter",
         "x": [
          0,
          0.05,
          0.1,
          0.15000000000000002,
          0.2,
          0.25,
          0.30000000000000004,
          0.35000000000000003,
          0.4,
          0.45,
          0.5,
          0.55,
          0.6000000000000001,
          0.65,
          0.7000000000000001,
          0.75,
          0.8,
          0.8500000000000001,
          0.9,
          0.9500000000000001,
          1
         ],
         "y": [
          0.0415770240673633,
          0.03932357651549276,
          0.037070128963622224,
          0.03481668141175169,
          0.032563233859881156,
          0.03030978630801062,
          0.02805633875614008,
          0.02580289120426954,
          0.023549443652399006,
          0.024322850262617098,
          0.04204431855217747,
          0.0612675474313943,
          0.06705022916292876,
          0.0728329108944632,
          0.07861559262599765,
          0.08439827435753211,
          0.09018095608906657,
          0.09596363782060102,
          0.10174631955213546,
          0.10752900128366993,
          0.11331168301520438
         ]
        },
        {
         "error_y": {
          "array": [
           0,
           0,
           0,
           0,
           0,
           0,
           0,
           0,
           0,
           0.017456693466787587,
           0.04076941819333151,
           1.3877787807814457E-17,
           1.3877787807814457E-17,
           1.3877787807814457E-17,
           1.3877787807814457E-17,
           1.3877787807814457E-17,
           1.3877787807814457E-17,
           1.3877787807814457E-17,
           1.3877787807814457E-17,
           1.3877787807814457E-17,
           1.3877787807814457E-17
          ],
          "type": "data"
         },
         "line": {
          "color": "green",
          "dash": "dash",
          "width": 2
         },
         "mode": "lines+markers",
         "name": "Structural Late",
         "type": "scatter",
         "x": [
          0,
          0.05,
          0.1,
          0.15000000000000002,
          0.2,
          0.25,
          0.30000000000000004,
          0.35000000000000003,
          0.4,
          0.45,
          0.5,
          0.55,
          0.6000000000000001,
          0.65,
          0.7000000000000001,
          0.75,
          0.8,
          0.8500000000000001,
          0.9,
          0.9500000000000001,
          1
         ],
         "y": [
          0,
          -1.7459634850237136E-4,
          -3.4919269700474273E-4,
          -5.237890455071141E-4,
          -6.983853940094855E-4,
          -8.729817425118568E-4,
          -0.0010475780910142282,
          -0.0012221744395165997,
          -0.001396770788018971,
          0.007340131128712239,
          0.03769570797833398,
          0.06232142565836241,
          0.06798700980912263,
          0.07365259395988284,
          0.07931817811064307,
          0.08498376226140328,
          0.0906493464121635,
          0.09631493056292373,
          0.10198051471368394,
          0.10764609886444416,
          0.11331168301520438
         ]
        },
        {
         "error_y": {
          "array": [
           0,
           0,
           0,
           0,
           0,
           0,
           0,
           0,
           0,
           0.00939289933623426,
           0.01662035337714919,
           0,
           0,
           0,
           0,
           0,
           0,
           0,
           0,
           0,
           0
          ],
          "type": "data"
         },
         "line": {
          "color": "darkgreen",
          "dash": "dot",
          "width": 2
         },
         "mode": "lines+markers",
         "name": "Attributive Late",
         "type": "scatter",
         "x": [
          0,
          0.05,
          0.1,
          0.15000000000000002,
          0.2,
          0.25,
          0.30000000000000004,
          0.35000000000000003,
          0.4,
          0.45,
          0.5,
          0.55,
          0.6000000000000001,
          0.65,
          0.7000000000000001,
          0.75,
          0.8,
          0.8500000000000001,
          0.9,
          0.9500000000000001,
          1
         ],
         "y": [
          0.0415770240673633,
          0.03949817286399513,
          0.03741932166062697,
          0.035340470457258806,
          0.033261619253890644,
          0.031182768050522475,
          0.02910391684715431,
          0.02702506564378614,
          0.024946214440417978,
          0.01698271913390486,
          0.004348610573843488,
          -0.0010538782269681117,
          -9.36780646193877E-4,
          -8.196830654196424E-4,
          -7.025854846454077E-4,
          -5.854879038711732E-4,
          -4.683903230969385E-4,
          -3.512927423227037E-4,
          -2.3419516154846924E-4,
          -1.1709758077423448E-4,
          0
         ]
        }
       ],
       "layout": {
        "legend": {
         "orientation": "h"
        },
        "template": {
         "data": {
          "bar": [
           {
            "error_x": {
             "color": "#2a3f5f"
            },
            "error_y": {
             "color": "#2a3f5f"
            },
            "marker": {
             "line": {
              "color": "#E5ECF6",
              "width": 0.5
             }
            },
            "type": "bar"
           }
          ],
          "barpolar": [
           {
            "marker": {
             "line": {
              "color": "#E5ECF6",
              "width": 0.5
             }
            },
            "type": "barpolar"
           }
          ],
          "carpet": [
           {
            "aaxis": {
             "endlinecolor": "#2a3f5f",
             "gridcolor": "white",
             "linecolor": "white",
             "minorgridcolor": "white",
             "startlinecolor": "#2a3f5f"
            },
            "baxis": {
             "endlinecolor": "#2a3f5f",
             "gridcolor": "white",
             "linecolor": "white",
             "minorgridcolor": "white",
             "startlinecolor": "#2a3f5f"
            },
            "type": "carpet"
           }
          ],
          "choropleth": [
           {
            "colorbar": {
             "outlinewidth": 0,
             "ticks": ""
            },
            "type": "choropleth"
           }
          ],
          "contour": [
           {
            "colorbar": {
             "outlinewidth": 0,
             "ticks": ""
            },
            "colorscale": [
             [
              0,
              "#0d0887"
             ],
             [
              0.1111111111111111,
              "#46039f"
             ],
             [
              0.2222222222222222,
              "#7201a8"
             ],
             [
              0.3333333333333333,
              "#9c179e"
             ],
             [
              0.4444444444444444,
              "#bd3786"
             ],
             [
              0.5555555555555556,
              "#d8576b"
             ],
             [
              0.6666666666666666,
              "#ed7953"
             ],
             [
              0.7777777777777778,
              "#fb9f3a"
             ],
             [
              0.8888888888888888,
              "#fdca26"
             ],
             [
              1,
              "#f0f921"
             ]
            ],
            "type": "contour"
           }
          ],
          "contourcarpet": [
           {
            "colorbar": {
             "outlinewidth": 0,
             "ticks": ""
            },
            "type": "contourcarpet"
           }
          ],
          "heatmap": [
           {
            "colorbar": {
             "outlinewidth": 0,
             "ticks": ""
            },
            "colorscale": [
             [
              0,
              "#0d0887"
             ],
             [
              0.1111111111111111,
              "#46039f"
             ],
             [
              0.2222222222222222,
              "#7201a8"
             ],
             [
              0.3333333333333333,
              "#9c179e"
             ],
             [
              0.4444444444444444,
              "#bd3786"
             ],
             [
              0.5555555555555556,
              "#d8576b"
             ],
             [
              0.6666666666666666,
              "#ed7953"
             ],
             [
              0.7777777777777778,
              "#fb9f3a"
             ],
             [
              0.8888888888888888,
              "#fdca26"
             ],
             [
              1,
              "#f0f921"
             ]
            ],
            "type": "heatmap"
           }
          ],
          "heatmapgl": [
           {
            "colorbar": {
             "outlinewidth": 0,
             "ticks": ""
            },
            "colorscale": [
             [
              0,
              "#0d0887"
             ],
             [
              0.1111111111111111,
              "#46039f"
             ],
             [
              0.2222222222222222,
              "#7201a8"
             ],
             [
              0.3333333333333333,
              "#9c179e"
             ],
             [
              0.4444444444444444,
              "#bd3786"
             ],
             [
              0.5555555555555556,
              "#d8576b"
             ],
             [
              0.6666666666666666,
              "#ed7953"
             ],
             [
              0.7777777777777778,
              "#fb9f3a"
             ],
             [
              0.8888888888888888,
              "#fdca26"
             ],
             [
              1,
              "#f0f921"
             ]
            ],
            "type": "heatmapgl"
           }
          ],
          "histogram": [
           {
            "marker": {
             "colorbar": {
              "outlinewidth": 0,
              "ticks": ""
             }
            },
            "type": "histogram"
           }
          ],
          "histogram2d": [
           {
            "colorbar": {
             "outlinewidth": 0,
             "ticks": ""
            },
            "colorscale": [
             [
              0,
              "#0d0887"
             ],
             [
              0.1111111111111111,
              "#46039f"
             ],
             [
              0.2222222222222222,
              "#7201a8"
             ],
             [
              0.3333333333333333,
              "#9c179e"
             ],
             [
              0.4444444444444444,
              "#bd3786"
             ],
             [
              0.5555555555555556,
              "#d8576b"
             ],
             [
              0.6666666666666666,
              "#ed7953"
             ],
             [
              0.7777777777777778,
              "#fb9f3a"
             ],
             [
              0.8888888888888888,
              "#fdca26"
             ],
             [
              1,
              "#f0f921"
             ]
            ],
            "type": "histogram2d"
           }
          ],
          "histogram2dcontour": [
           {
            "colorbar": {
             "outlinewidth": 0,
             "ticks": ""
            },
            "colorscale": [
             [
              0,
              "#0d0887"
             ],
             [
              0.1111111111111111,
              "#46039f"
             ],
             [
              0.2222222222222222,
              "#7201a8"
             ],
             [
              0.3333333333333333,
              "#9c179e"
             ],
             [
              0.4444444444444444,
              "#bd3786"
             ],
             [
              0.5555555555555556,
              "#d8576b"
             ],
             [
              0.6666666666666666,
              "#ed7953"
             ],
             [
              0.7777777777777778,
              "#fb9f3a"
             ],
             [
              0.8888888888888888,
              "#fdca26"
             ],
             [
              1,
              "#f0f921"
             ]
            ],
            "type": "histogram2dcontour"
           }
          ],
          "mesh3d": [
           {
            "colorbar": {
             "outlinewidth": 0,
             "ticks": ""
            },
            "type": "mesh3d"
           }
          ],
          "parcoords": [
           {
            "line": {
             "colorbar": {
              "outlinewidth": 0,
              "ticks": ""
             }
            },
            "type": "parcoords"
           }
          ],
          "pie": [
           {
            "automargin": true,
            "type": "pie"
           }
          ],
          "scatter": [
           {
            "marker": {
             "colorbar": {
              "outlinewidth": 0,
              "ticks": ""
             }
            },
            "type": "scatter"
           }
          ],
          "scatter3d": [
           {
            "line": {
             "colorbar": {
              "outlinewidth": 0,
              "ticks": ""
             }
            },
            "marker": {
             "colorbar": {
              "outlinewidth": 0,
              "ticks": ""
             }
            },
            "type": "scatter3d"
           }
          ],
          "scattercarpet": [
           {
            "marker": {
             "colorbar": {
              "outlinewidth": 0,
              "ticks": ""
             }
            },
            "type": "scattercarpet"
           }
          ],
          "scattergeo": [
           {
            "marker": {
             "colorbar": {
              "outlinewidth": 0,
              "ticks": ""
             }
            },
            "type": "scattergeo"
           }
          ],
          "scattergl": [
           {
            "marker": {
             "colorbar": {
              "outlinewidth": 0,
              "ticks": ""
             }
            },
            "type": "scattergl"
           }
          ],
          "scattermapbox": [
           {
            "marker": {
             "colorbar": {
              "outlinewidth": 0,
              "ticks": ""
             }
            },
            "type": "scattermapbox"
           }
          ],
          "scatterpolar": [
           {
            "marker": {
             "colorbar": {
              "outlinewidth": 0,
              "ticks": ""
             }
            },
            "type": "scatterpolar"
           }
          ],
          "scatterpolargl": [
           {
            "marker": {
             "colorbar": {
              "outlinewidth": 0,
              "ticks": ""
             }
            },
            "type": "scatterpolargl"
           }
          ],
          "scatterternary": [
           {
            "marker": {
             "colorbar": {
              "outlinewidth": 0,
              "ticks": ""
             }
            },
            "type": "scatterternary"
           }
          ],
          "surface": [
           {
            "colorbar": {
             "outlinewidth": 0,
             "ticks": ""
            },
            "colorscale": [
             [
              0,
              "#0d0887"
             ],
             [
              0.1111111111111111,
              "#46039f"
             ],
             [
              0.2222222222222222,
              "#7201a8"
             ],
             [
              0.3333333333333333,
              "#9c179e"
             ],
             [
              0.4444444444444444,
              "#bd3786"
             ],
             [
              0.5555555555555556,
              "#d8576b"
             ],
             [
              0.6666666666666666,
              "#ed7953"
             ],
             [
              0.7777777777777778,
              "#fb9f3a"
             ],
             [
              0.8888888888888888,
              "#fdca26"
             ],
             [
              1,
              "#f0f921"
             ]
            ],
            "type": "surface"
           }
          ],
          "table": [
           {
            "cells": {
             "fill": {
              "color": "#EBF0F8"
             },
             "line": {
              "color": "white"
             }
            },
            "header": {
             "fill": {
              "color": "#C8D4E3"
             },
             "line": {
              "color": "white"
             }
            },
            "type": "table"
           }
          ]
         },
         "layout": {
          "annotationdefaults": {
           "arrowcolor": "#2a3f5f",
           "arrowhead": 0,
           "arrowwidth": 1
          },
          "coloraxis": {
           "colorbar": {
            "outlinewidth": 0,
            "ticks": ""
           }
          },
          "colorscale": {
           "diverging": [
            [
             0,
             "#8e0152"
            ],
            [
             0.1,
             "#c51b7d"
            ],
            [
             0.2,
             "#de77ae"
            ],
            [
             0.3,
             "#f1b6da"
            ],
            [
             0.4,
             "#fde0ef"
            ],
            [
             0.5,
             "#f7f7f7"
            ],
            [
             0.6,
             "#e6f5d0"
            ],
            [
             0.7,
             "#b8e186"
            ],
            [
             0.8,
             "#7fbc41"
            ],
            [
             0.9,
             "#4d9221"
            ],
            [
             1,
             "#276419"
            ]
           ],
           "sequential": [
            [
             0,
             "#0d0887"
            ],
            [
             0.1111111111111111,
             "#46039f"
            ],
            [
             0.2222222222222222,
             "#7201a8"
            ],
            [
             0.3333333333333333,
             "#9c179e"
            ],
            [
             0.4444444444444444,
             "#bd3786"
            ],
            [
             0.5555555555555556,
             "#d8576b"
            ],
            [
             0.6666666666666666,
             "#ed7953"
            ],
            [
             0.7777777777777778,
             "#fb9f3a"
            ],
            [
             0.8888888888888888,
             "#fdca26"
            ],
            [
             1,
             "#f0f921"
            ]
           ],
           "sequentialminus": [
            [
             0,
             "#0d0887"
            ],
            [
             0.1111111111111111,
             "#46039f"
            ],
            [
             0.2222222222222222,
             "#7201a8"
            ],
            [
             0.3333333333333333,
             "#9c179e"
            ],
            [
             0.4444444444444444,
             "#bd3786"
            ],
            [
             0.5555555555555556,
             "#d8576b"
            ],
            [
             0.6666666666666666,
             "#ed7953"
            ],
            [
             0.7777777777777778,
             "#fb9f3a"
            ],
            [
             0.8888888888888888,
             "#fdca26"
            ],
            [
             1,
             "#f0f921"
            ]
           ]
          },
          "colorway": [
           "#636efa",
           "#EF553B",
           "#00cc96",
           "#ab63fa",
           "#FFA15A",
           "#19d3f3",
           "#FF6692",
           "#B6E880",
           "#FF97FF",
           "#FECB52"
          ],
          "font": {
           "color": "#2a3f5f"
          },
          "geo": {
           "bgcolor": "white",
           "lakecolor": "white",
           "landcolor": "#E5ECF6",
           "showlakes": true,
           "showland": true,
           "subunitcolor": "white"
          },
          "hoverlabel": {
           "align": "left"
          },
          "hovermode": "closest",
          "mapbox": {
           "style": "light"
          },
          "paper_bgcolor": "white",
          "plot_bgcolor": "#E5ECF6",
          "polar": {
           "angularaxis": {
            "gridcolor": "white",
            "linecolor": "white",
            "ticks": ""
           },
           "bgcolor": "#E5ECF6",
           "radialaxis": {
            "gridcolor": "white",
            "linecolor": "white",
            "ticks": ""
           }
          },
          "scene": {
           "xaxis": {
            "backgroundcolor": "#E5ECF6",
            "gridcolor": "white",
            "gridwidth": 2,
            "linecolor": "white",
            "showbackground": true,
            "ticks": "",
            "zerolinecolor": "white"
           },
           "yaxis": {
            "backgroundcolor": "#E5ECF6",
            "gridcolor": "white",
            "gridwidth": 2,
            "linecolor": "white",
            "showbackground": true,
            "ticks": "",
            "zerolinecolor": "white"
           },
           "zaxis": {
            "backgroundcolor": "#E5ECF6",
            "gridcolor": "white",
            "gridwidth": 2,
            "linecolor": "white",
            "showbackground": true,
            "ticks": "",
            "zerolinecolor": "white"
           }
          },
          "shapedefaults": {
           "line": {
            "color": "#2a3f5f"
           }
          },
          "ternary": {
           "aaxis": {
            "gridcolor": "white",
            "linecolor": "white",
            "ticks": ""
           },
           "baxis": {
            "gridcolor": "white",
            "linecolor": "white",
            "ticks": ""
           },
           "bgcolor": "#E5ECF6",
           "caxis": {
            "gridcolor": "white",
            "linecolor": "white",
            "ticks": ""
           }
          },
          "title": {
           "x": 0.05
          },
          "xaxis": {
           "automargin": true,
           "gridcolor": "white",
           "linecolor": "white",
           "ticks": "",
           "title": {
            "standoff": 15
           },
           "zerolinecolor": "white",
           "zerolinewidth": 2
          },
          "yaxis": {
           "automargin": true,
           "gridcolor": "white",
           "linecolor": "white",
           "ticks": "",
           "title": {
            "standoff": 15
           },
           "zerolinecolor": "white",
           "zerolinewidth": 2
          }
         }
        },
        "xaxis": {
         "title": {
          "text": "$\\alpha$"
         }
        },
        "yaxis": {
         "title": {
          "text": "Modularity"
         }
        }
       }
      },
      "text/html": [
       "<div>\n",
       "        \n",
       "        \n",
       "            <div id=\"ca35b006-973d-4344-9d14-3d7fe83c30c3\" class=\"plotly-graph-div\" style=\"height:525px; width:100%;\"></div>\n",
       "            <script type=\"text/javascript\">\n",
       "                require([\"plotly\"], function(Plotly) {\n",
       "                    window.PLOTLYENV=window.PLOTLYENV || {};\n",
       "                    \n",
       "                if (document.getElementById(\"ca35b006-973d-4344-9d14-3d7fe83c30c3\")) {\n",
       "                    Plotly.newPlot(\n",
       "                        'ca35b006-973d-4344-9d14-3d7fe83c30c3',\n",
       "                        [{\"error_y\": {\"array\": [0.0006488087678556372, 0.0008686845807273061, 0.001494103078235079, 0.0006492227470063179, 0.0010466792505555078, 0.0004687730355013088, 0.0012843315443154663, 0.0010823540597534873, 0.0014252970278644927, 0.0007940222497436787, 0.0013618753057524364, 0.001501029859407483, 0.0016232380650839976, 0.0008690967948800938, 0.002660291148026006, 0.0014482989411338464, 0.001087392554542589, 0.002640006131899618, 0.0011276911798048979, 0.0026960390516742754, 0.0019331033035996272], \"type\": \"data\"}, \"line\": {\"color\": \"crimson\", \"width\": 2}, \"mode\": \"lines+markers\", \"name\": \"Composite WB\", \"type\": \"scatter\", \"x\": [0.0, 0.05, 0.1, 0.15000000000000002, 0.2, 0.25, 0.30000000000000004, 0.35000000000000003, 0.4, 0.45, 0.5, 0.55, 0.6000000000000001, 0.65, 0.7000000000000001, 0.75, 0.8, 0.8500000000000001, 0.9, 0.9500000000000001, 1.0], \"y\": [0.042464996022445176, 0.04117599289107224, 0.039983590012796895, 0.03996503308000169, 0.0408931405768409, 0.042181844067318106, 0.04579401807036384, 0.04766945450355367, 0.05226222098991354, 0.05675756506606863, 0.05970688357219552, 0.06495030205046577, 0.07098846344039897, 0.07487664617167063, 0.07978944130829937, 0.08666998360402386, 0.09296370023343076, 0.09638079679157818, 0.1042337081516197, 0.1089064135451842, 0.11530233609905674]}, {\"error_y\": {\"array\": [0.002134989579179191, 0.003407424738164656, 0.002106897061062489, 0.0038789381915809626, 0.0023550219451928724, 0.0027431078652415137, 0.002089610059447897, 0.003107598981842483, 0.0032880308144160593, 0.0015866137948338094, 0.0020785537732246695, 0.0024162638494349712, 0.002643232844538235, 0.002053231350055379, 0.0037946692765686778, 0.0018658616796079453, 0.0014242304853243036, 0.0031766204596419944, 0.0012260390076172573, 0.0028714272026156332, 0.001933103303599489], \"type\": \"data\"}, \"line\": {\"color\": \"red\", \"dash\": \"dash\", \"width\": 2}, \"mode\": \"lines+markers\", \"name\": \"Structural WB\", \"type\": \"scatter\", \"x\": [0.0, 0.05, 0.1, 0.15000000000000002, 0.2, 0.25, 0.30000000000000004, 0.35000000000000003, 0.4, 0.45, 0.5, 0.55, 0.6000000000000001, 0.65, 0.7000000000000001, 0.75, 0.8, 0.8500000000000001, 0.9, 0.9500000000000001, 1.0], \"y\": [0.0, 0.000600042473925453, 0.0028846904211185264, 0.007056035475177457, 0.012794217577905338, 0.01936006317043152, 0.026853563035151573, 0.03352705532684697, 0.04098644388799882, 0.04841980561464844, 0.05355168622478753, 0.0606842504960265, 0.06787766780018888, 0.07312866900444566, 0.07836926512482892, 0.08588014909309383, 0.09247841833865611, 0.09620898494281108, 0.10427697979554161, 0.10893355403638234, 0.11530233609905674]}, {\"error_y\": {\"array\": [0.0006488087678574099, 0.0009533303893917299, 0.0015493066299999295, 0.0008643129297662392, 0.0017422729108865973, 0.0008352467423736882, 0.0011067538343354365, 0.0010637454010723562, 0.0004849218487770832, 0.0006622513978198934, 0.001194470485362376, 0.0007872757642331066, 0.0012959064421735503, 0.001811616465638328, 0.0005326883121534086, 0.0006472501424619841, 0.0008466435061879777, 0.0009113663986554598, 0.0008106727754924429, 0.0007819651603591453, 0.0004759961298105472], \"type\": \"data\"}, \"line\": {\"color\": \"salmon\", \"dash\": \"dot\", \"width\": 2}, \"mode\": \"lines+markers\", \"name\": \"Attributive WB\", \"type\": \"scatter\", \"x\": [0.0, 0.05, 0.1, 0.15000000000000002, 0.2, 0.25, 0.30000000000000004, 0.35000000000000003, 0.4, 0.45, 0.5, 0.55, 0.6000000000000001, 0.65, 0.7000000000000001, 0.75, 0.8, 0.8500000000000001, 0.9, 0.9500000000000001, 1.0], \"y\": [0.042464996022445176, 0.04057595041714679, 0.03709889959167837, 0.032908997604824235, 0.028098922998935568, 0.022821780896886586, 0.018940455035212266, 0.0141423991767067, 0.01127577710191472, 0.008337759451420197, 0.006155197347407994, 0.004266051554439272, 0.0031107956402100893, 0.0017479771672249654, 0.0014201761834704563, 0.0007898345109300373, 0.00048528189477465276, 0.0001718118487671031, -4.327164392191307e-05, -2.714049119814289e-05, -0.0]}, {\"error_y\": {\"array\": [0.0007399467462902385, 0.0003270331464146118, 0.0006112465780144379, 0.0007300200160723543, 0.0009998717245587618, 0.0005819334458241028, 0.0010072734951205868, 0.0010809712903775111, 0.0014140576513268475, 0.0011389586117958445, 0.001204078734344959, 0.0010067467574401995, 0.0011365037732193528, 0.0020367279383897816, 0.0015555740328580833, 0.0009055486026953022, 0.0011611028180159183, 0.001014033636212701, 0.002500324995372931, 0.002607986819133668, 0.0029820229788810573], \"type\": \"data\"}, \"line\": {\"color\": \"dodgerblue\", \"width\": 2}, \"mode\": \"lines+markers\", \"name\": \"Composite Mod. Louvain\", \"type\": \"scatter\", \"x\": [0.0, 0.05, 0.1, 0.15000000000000002, 0.2, 0.25, 0.30000000000000004, 0.35000000000000003, 0.4, 0.45, 0.5, 0.55, 0.6000000000000001, 0.65, 0.7000000000000001, 0.75, 0.8, 0.8500000000000001, 0.9, 0.9500000000000001, 1.0], \"y\": [0.043064281213965404, 0.04152406837145965, 0.03962740274731909, 0.03749663365598137, 0.03541011260587397, 0.036402444483135746, 0.03647829954784797, 0.03795600826480523, 0.0397279250806421, 0.04138909516047367, 0.04682598976855408, 0.0534727726059421, 0.059294397282474764, 0.06695242945881723, 0.07425922496434467, 0.08188936012391021, 0.08819817344641932, 0.09567131512364477, 0.1018088129847485, 0.10901821114601766, 0.11371752551751213]}, {\"error_y\": {\"array\": [0.0, 0.00011296912977888272, 0.00028726324073069943, 0.000326660131082468, 0.00034946310347672794, 0.0004514645941526929, 0.0010982216929324754, 0.000966834321868203, 0.0006714979132077675, 0.0014378445070274937, 0.0009195282664982173, 0.001061800746078669, 0.0011190728958999324, 0.001791790233816366, 0.00185602529072538, 0.0007580635402871515, 0.0009940857266077954, 0.0009317200780870796, 0.0024983519585797674, 0.00259408091509985, 0.0029820229788810573], \"type\": \"data\"}, \"line\": {\"color\": \"darkblue\", \"dash\": \"dash\", \"width\": 2}, \"mode\": \"lines+markers\", \"name\": \"Structural Mod. Louvain\", \"type\": \"scatter\", \"x\": [0.0, 0.05, 0.1, 0.15000000000000002, 0.2, 0.25, 0.30000000000000004, 0.35000000000000003, 0.4, 0.45, 0.5, 0.55, 0.6000000000000001, 0.65, 0.7000000000000001, 0.75, 0.8, 0.8500000000000001, 0.9, 0.9500000000000001, 1.0], \"y\": [0.0, 0.00017885859531666123, 0.0007287731169561482, 0.0018091804356014387, 0.0022040607857908307, 0.005271360306210145, 0.007992882351536886, 0.012064571838958506, 0.016686356619168372, 0.0220941765628813, 0.029864580459739627, 0.03923860896402084, 0.04763118547676899, 0.05840747789764348, 0.06785485648388842, 0.07767299603311442, 0.08568410752368727, 0.09433177328141415, 0.10125318882693715, 0.10893197341616356, 0.11371752551751213]}, {\"error_y\": {\"array\": [0.0007399467462902385, 0.0003127454666147332, 0.0008730375807868487, 0.0009114769901747643, 0.0006662068357874722, 0.0001825014063989726, 0.0005305997689514908, 0.0007886282449580051, 0.0008584929877709585, 0.0007787753195306243, 0.00035612001227973113, 0.00028883218351331906, 0.0003882035045739039, 0.0003249291141734087, 0.0003580257699090165, 0.00020406160083919433, 0.00019434089727523622, 0.00011946350711882431, 7.534624904403398e-05, 4.934698217546534e-05, 0.0], \"type\": \"data\"}, \"line\": {\"color\": \"blue\", \"dash\": \"dot\", \"width\": 2}, \"mode\": \"lines+markers\", \"name\": \"Attributive Mod. Louvain\", \"type\": \"scatter\", \"x\": [0.0, 0.05, 0.1, 0.15000000000000002, 0.2, 0.25, 0.30000000000000004, 0.35000000000000003, 0.4, 0.45, 0.5, 0.55, 0.6000000000000001, 0.65, 0.7000000000000001, 0.75, 0.8, 0.8500000000000001, 0.9, 0.9500000000000001, 1.0], \"y\": [0.043064281213965404, 0.04134520977614299, 0.03889862963036293, 0.035687453220379924, 0.033206051820083134, 0.031131084176925606, 0.028485417196311074, 0.02589143642584673, 0.023041568461473726, 0.019294918597592366, 0.01696140930881445, 0.014234163641921257, 0.011663211805705776, 0.008544951561173752, 0.006404368480456238, 0.004216364090795799, 0.0025140659227320694, 0.0013395418422306154, 0.0005556241578113664, 8.623772985408472e-05, 0.0]}, {\"line\": {\"color\": \"lime\", \"width\": 2}, \"mode\": \"lines+markers\", \"name\": \"Composite Late\", \"type\": \"scatter\", \"x\": [0.0, 0.05, 0.1, 0.15000000000000002, 0.2, 0.25, 0.30000000000000004, 0.35000000000000003, 0.4, 0.45, 0.5, 0.55, 0.6000000000000001, 0.65, 0.7000000000000001, 0.75, 0.8, 0.8500000000000001, 0.9, 0.9500000000000001, 1.0], \"y\": [0.0415770240673633, 0.03932357651549276, 0.037070128963622224, 0.03481668141175169, 0.032563233859881156, 0.03030978630801062, 0.02805633875614008, 0.02580289120426954, 0.023549443652399006, 0.024322850262617098, 0.04204431855217747, 0.0612675474313943, 0.06705022916292876, 0.0728329108944632, 0.07861559262599765, 0.08439827435753211, 0.09018095608906657, 0.09596363782060102, 0.10174631955213546, 0.10752900128366993, 0.11331168301520438]}, {\"error_y\": {\"array\": [0.0, 0.0, 0.0, 0.0, 0.0, 0.0, 0.0, 0.0, 0.0, 0.017456693466787587, 0.04076941819333151, 1.3877787807814457e-17, 1.3877787807814457e-17, 1.3877787807814457e-17, 1.3877787807814457e-17, 1.3877787807814457e-17, 1.3877787807814457e-17, 1.3877787807814457e-17, 1.3877787807814457e-17, 1.3877787807814457e-17, 1.3877787807814457e-17], \"type\": \"data\"}, \"line\": {\"color\": \"green\", \"dash\": \"dash\", \"width\": 2}, \"mode\": \"lines+markers\", \"name\": \"Structural Late\", \"type\": \"scatter\", \"x\": [0.0, 0.05, 0.1, 0.15000000000000002, 0.2, 0.25, 0.30000000000000004, 0.35000000000000003, 0.4, 0.45, 0.5, 0.55, 0.6000000000000001, 0.65, 0.7000000000000001, 0.75, 0.8, 0.8500000000000001, 0.9, 0.9500000000000001, 1.0], \"y\": [-0.0, -0.00017459634850237136, -0.00034919269700474273, -0.0005237890455071141, -0.0006983853940094855, -0.0008729817425118568, -0.0010475780910142282, -0.0012221744395165997, -0.001396770788018971, 0.007340131128712239, 0.03769570797833398, 0.06232142565836241, 0.06798700980912263, 0.07365259395988284, 0.07931817811064307, 0.08498376226140328, 0.0906493464121635, 0.09631493056292373, 0.10198051471368394, 0.10764609886444416, 0.11331168301520438]}, {\"error_y\": {\"array\": [0.0, 0.0, 0.0, 0.0, 0.0, 0.0, 0.0, 0.0, 0.0, 0.00939289933623426, 0.01662035337714919, 0.0, 0.0, 0.0, 0.0, 0.0, 0.0, 0.0, 0.0, 0.0, 0.0], \"type\": \"data\"}, \"line\": {\"color\": \"darkgreen\", \"dash\": \"dot\", \"width\": 2}, \"mode\": \"lines+markers\", \"name\": \"Attributive Late\", \"type\": \"scatter\", \"x\": [0.0, 0.05, 0.1, 0.15000000000000002, 0.2, 0.25, 0.30000000000000004, 0.35000000000000003, 0.4, 0.45, 0.5, 0.55, 0.6000000000000001, 0.65, 0.7000000000000001, 0.75, 0.8, 0.8500000000000001, 0.9, 0.9500000000000001, 1.0], \"y\": [0.0415770240673633, 0.03949817286399513, 0.03741932166062697, 0.035340470457258806, 0.033261619253890644, 0.031182768050522475, 0.02910391684715431, 0.02702506564378614, 0.024946214440417978, 0.01698271913390486, 0.004348610573843488, -0.0010538782269681117, -0.000936780646193877, -0.0008196830654196424, -0.0007025854846454077, -0.0005854879038711732, -0.0004683903230969385, -0.0003512927423227037, -0.00023419516154846924, -0.00011709758077423448, -0.0]}],\n",
       "                        {\"legend\": {\"orientation\": \"h\"}, \"template\": {\"data\": {\"bar\": [{\"error_x\": {\"color\": \"#2a3f5f\"}, \"error_y\": {\"color\": \"#2a3f5f\"}, \"marker\": {\"line\": {\"color\": \"#E5ECF6\", \"width\": 0.5}}, \"type\": \"bar\"}], \"barpolar\": [{\"marker\": {\"line\": {\"color\": \"#E5ECF6\", \"width\": 0.5}}, \"type\": \"barpolar\"}], \"carpet\": [{\"aaxis\": {\"endlinecolor\": \"#2a3f5f\", \"gridcolor\": \"white\", \"linecolor\": \"white\", \"minorgridcolor\": \"white\", \"startlinecolor\": \"#2a3f5f\"}, \"baxis\": {\"endlinecolor\": \"#2a3f5f\", \"gridcolor\": \"white\", \"linecolor\": \"white\", \"minorgridcolor\": \"white\", \"startlinecolor\": \"#2a3f5f\"}, \"type\": \"carpet\"}], \"choropleth\": [{\"colorbar\": {\"outlinewidth\": 0, \"ticks\": \"\"}, \"type\": \"choropleth\"}], \"contour\": [{\"colorbar\": {\"outlinewidth\": 0, \"ticks\": \"\"}, \"colorscale\": [[0.0, \"#0d0887\"], [0.1111111111111111, \"#46039f\"], [0.2222222222222222, \"#7201a8\"], [0.3333333333333333, \"#9c179e\"], [0.4444444444444444, \"#bd3786\"], [0.5555555555555556, \"#d8576b\"], [0.6666666666666666, \"#ed7953\"], [0.7777777777777778, \"#fb9f3a\"], [0.8888888888888888, \"#fdca26\"], [1.0, \"#f0f921\"]], \"type\": \"contour\"}], \"contourcarpet\": [{\"colorbar\": {\"outlinewidth\": 0, \"ticks\": \"\"}, \"type\": \"contourcarpet\"}], \"heatmap\": [{\"colorbar\": {\"outlinewidth\": 0, \"ticks\": \"\"}, \"colorscale\": [[0.0, \"#0d0887\"], [0.1111111111111111, \"#46039f\"], [0.2222222222222222, \"#7201a8\"], [0.3333333333333333, \"#9c179e\"], [0.4444444444444444, \"#bd3786\"], [0.5555555555555556, \"#d8576b\"], [0.6666666666666666, \"#ed7953\"], [0.7777777777777778, \"#fb9f3a\"], [0.8888888888888888, \"#fdca26\"], [1.0, \"#f0f921\"]], \"type\": \"heatmap\"}], \"heatmapgl\": [{\"colorbar\": {\"outlinewidth\": 0, \"ticks\": \"\"}, \"colorscale\": [[0.0, \"#0d0887\"], [0.1111111111111111, \"#46039f\"], [0.2222222222222222, \"#7201a8\"], [0.3333333333333333, \"#9c179e\"], [0.4444444444444444, \"#bd3786\"], [0.5555555555555556, \"#d8576b\"], [0.6666666666666666, \"#ed7953\"], [0.7777777777777778, \"#fb9f3a\"], [0.8888888888888888, \"#fdca26\"], [1.0, \"#f0f921\"]], \"type\": \"heatmapgl\"}], \"histogram\": [{\"marker\": {\"colorbar\": {\"outlinewidth\": 0, \"ticks\": \"\"}}, \"type\": \"histogram\"}], \"histogram2d\": [{\"colorbar\": {\"outlinewidth\": 0, \"ticks\": \"\"}, \"colorscale\": [[0.0, \"#0d0887\"], [0.1111111111111111, \"#46039f\"], [0.2222222222222222, \"#7201a8\"], [0.3333333333333333, \"#9c179e\"], [0.4444444444444444, \"#bd3786\"], [0.5555555555555556, \"#d8576b\"], [0.6666666666666666, \"#ed7953\"], [0.7777777777777778, \"#fb9f3a\"], [0.8888888888888888, \"#fdca26\"], [1.0, \"#f0f921\"]], \"type\": \"histogram2d\"}], \"histogram2dcontour\": [{\"colorbar\": {\"outlinewidth\": 0, \"ticks\": \"\"}, \"colorscale\": [[0.0, \"#0d0887\"], [0.1111111111111111, \"#46039f\"], [0.2222222222222222, \"#7201a8\"], [0.3333333333333333, \"#9c179e\"], [0.4444444444444444, \"#bd3786\"], [0.5555555555555556, \"#d8576b\"], [0.6666666666666666, \"#ed7953\"], [0.7777777777777778, \"#fb9f3a\"], [0.8888888888888888, \"#fdca26\"], [1.0, \"#f0f921\"]], \"type\": \"histogram2dcontour\"}], \"mesh3d\": [{\"colorbar\": {\"outlinewidth\": 0, \"ticks\": \"\"}, \"type\": \"mesh3d\"}], \"parcoords\": [{\"line\": {\"colorbar\": {\"outlinewidth\": 0, \"ticks\": \"\"}}, \"type\": \"parcoords\"}], \"pie\": [{\"automargin\": true, \"type\": \"pie\"}], \"scatter\": [{\"marker\": {\"colorbar\": {\"outlinewidth\": 0, \"ticks\": \"\"}}, \"type\": \"scatter\"}], \"scatter3d\": [{\"line\": {\"colorbar\": {\"outlinewidth\": 0, \"ticks\": \"\"}}, \"marker\": {\"colorbar\": {\"outlinewidth\": 0, \"ticks\": \"\"}}, \"type\": \"scatter3d\"}], \"scattercarpet\": [{\"marker\": {\"colorbar\": {\"outlinewidth\": 0, \"ticks\": \"\"}}, \"type\": \"scattercarpet\"}], \"scattergeo\": [{\"marker\": {\"colorbar\": {\"outlinewidth\": 0, \"ticks\": \"\"}}, \"type\": \"scattergeo\"}], \"scattergl\": [{\"marker\": {\"colorbar\": {\"outlinewidth\": 0, \"ticks\": \"\"}}, \"type\": \"scattergl\"}], \"scattermapbox\": [{\"marker\": {\"colorbar\": {\"outlinewidth\": 0, \"ticks\": \"\"}}, \"type\": \"scattermapbox\"}], \"scatterpolar\": [{\"marker\": {\"colorbar\": {\"outlinewidth\": 0, \"ticks\": \"\"}}, \"type\": \"scatterpolar\"}], \"scatterpolargl\": [{\"marker\": {\"colorbar\": {\"outlinewidth\": 0, \"ticks\": \"\"}}, \"type\": \"scatterpolargl\"}], \"scatterternary\": [{\"marker\": {\"colorbar\": {\"outlinewidth\": 0, \"ticks\": \"\"}}, \"type\": \"scatterternary\"}], \"surface\": [{\"colorbar\": {\"outlinewidth\": 0, \"ticks\": \"\"}, \"colorscale\": [[0.0, \"#0d0887\"], [0.1111111111111111, \"#46039f\"], [0.2222222222222222, \"#7201a8\"], [0.3333333333333333, \"#9c179e\"], [0.4444444444444444, \"#bd3786\"], [0.5555555555555556, \"#d8576b\"], [0.6666666666666666, \"#ed7953\"], [0.7777777777777778, \"#fb9f3a\"], [0.8888888888888888, \"#fdca26\"], [1.0, \"#f0f921\"]], \"type\": \"surface\"}], \"table\": [{\"cells\": {\"fill\": {\"color\": \"#EBF0F8\"}, \"line\": {\"color\": \"white\"}}, \"header\": {\"fill\": {\"color\": \"#C8D4E3\"}, \"line\": {\"color\": \"white\"}}, \"type\": \"table\"}]}, \"layout\": {\"annotationdefaults\": {\"arrowcolor\": \"#2a3f5f\", \"arrowhead\": 0, \"arrowwidth\": 1}, \"coloraxis\": {\"colorbar\": {\"outlinewidth\": 0, \"ticks\": \"\"}}, \"colorscale\": {\"diverging\": [[0, \"#8e0152\"], [0.1, \"#c51b7d\"], [0.2, \"#de77ae\"], [0.3, \"#f1b6da\"], [0.4, \"#fde0ef\"], [0.5, \"#f7f7f7\"], [0.6, \"#e6f5d0\"], [0.7, \"#b8e186\"], [0.8, \"#7fbc41\"], [0.9, \"#4d9221\"], [1, \"#276419\"]], \"sequential\": [[0.0, \"#0d0887\"], [0.1111111111111111, \"#46039f\"], [0.2222222222222222, \"#7201a8\"], [0.3333333333333333, \"#9c179e\"], [0.4444444444444444, \"#bd3786\"], [0.5555555555555556, \"#d8576b\"], [0.6666666666666666, \"#ed7953\"], [0.7777777777777778, \"#fb9f3a\"], [0.8888888888888888, \"#fdca26\"], [1.0, \"#f0f921\"]], \"sequentialminus\": [[0.0, \"#0d0887\"], [0.1111111111111111, \"#46039f\"], [0.2222222222222222, \"#7201a8\"], [0.3333333333333333, \"#9c179e\"], [0.4444444444444444, \"#bd3786\"], [0.5555555555555556, \"#d8576b\"], [0.6666666666666666, \"#ed7953\"], [0.7777777777777778, \"#fb9f3a\"], [0.8888888888888888, \"#fdca26\"], [1.0, \"#f0f921\"]]}, \"colorway\": [\"#636efa\", \"#EF553B\", \"#00cc96\", \"#ab63fa\", \"#FFA15A\", \"#19d3f3\", \"#FF6692\", \"#B6E880\", \"#FF97FF\", \"#FECB52\"], \"font\": {\"color\": \"#2a3f5f\"}, \"geo\": {\"bgcolor\": \"white\", \"lakecolor\": \"white\", \"landcolor\": \"#E5ECF6\", \"showlakes\": true, \"showland\": true, \"subunitcolor\": \"white\"}, \"hoverlabel\": {\"align\": \"left\"}, \"hovermode\": \"closest\", \"mapbox\": {\"style\": \"light\"}, \"paper_bgcolor\": \"white\", \"plot_bgcolor\": \"#E5ECF6\", \"polar\": {\"angularaxis\": {\"gridcolor\": \"white\", \"linecolor\": \"white\", \"ticks\": \"\"}, \"bgcolor\": \"#E5ECF6\", \"radialaxis\": {\"gridcolor\": \"white\", \"linecolor\": \"white\", \"ticks\": \"\"}}, \"scene\": {\"xaxis\": {\"backgroundcolor\": \"#E5ECF6\", \"gridcolor\": \"white\", \"gridwidth\": 2, \"linecolor\": \"white\", \"showbackground\": true, \"ticks\": \"\", \"zerolinecolor\": \"white\"}, \"yaxis\": {\"backgroundcolor\": \"#E5ECF6\", \"gridcolor\": \"white\", \"gridwidth\": 2, \"linecolor\": \"white\", \"showbackground\": true, \"ticks\": \"\", \"zerolinecolor\": \"white\"}, \"zaxis\": {\"backgroundcolor\": \"#E5ECF6\", \"gridcolor\": \"white\", \"gridwidth\": 2, \"linecolor\": \"white\", \"showbackground\": true, \"ticks\": \"\", \"zerolinecolor\": \"white\"}}, \"shapedefaults\": {\"line\": {\"color\": \"#2a3f5f\"}}, \"ternary\": {\"aaxis\": {\"gridcolor\": \"white\", \"linecolor\": \"white\", \"ticks\": \"\"}, \"baxis\": {\"gridcolor\": \"white\", \"linecolor\": \"white\", \"ticks\": \"\"}, \"bgcolor\": \"#E5ECF6\", \"caxis\": {\"gridcolor\": \"white\", \"linecolor\": \"white\", \"ticks\": \"\"}}, \"title\": {\"x\": 0.05}, \"xaxis\": {\"automargin\": true, \"gridcolor\": \"white\", \"linecolor\": \"white\", \"ticks\": \"\", \"title\": {\"standoff\": 15}, \"zerolinecolor\": \"white\", \"zerolinewidth\": 2}, \"yaxis\": {\"automargin\": true, \"gridcolor\": \"white\", \"linecolor\": \"white\", \"ticks\": \"\", \"title\": {\"standoff\": 15}, \"zerolinecolor\": \"white\", \"zerolinewidth\": 2}}}, \"xaxis\": {\"title\": {\"text\": \"$\\\\alpha$\"}}, \"yaxis\": {\"title\": {\"text\": \"Modularity\"}}},\n",
       "                        {\"responsive\": true}\n",
       "                    ).then(function(){\n",
       "                            \n",
       "var gd = document.getElementById('ca35b006-973d-4344-9d14-3d7fe83c30c3');\n",
       "var x = new MutationObserver(function (mutations, observer) {{\n",
       "        var display = window.getComputedStyle(gd).display;\n",
       "        if (!display || display === 'none') {{\n",
       "            console.log([gd, 'removed!']);\n",
       "            Plotly.purge(gd);\n",
       "            observer.disconnect();\n",
       "        }}\n",
       "}});\n",
       "\n",
       "// Listen for the removal of the full notebook cells\n",
       "var notebookContainer = gd.closest('#notebook-container');\n",
       "if (notebookContainer) {{\n",
       "    x.observe(notebookContainer, {childList: true});\n",
       "}}\n",
       "\n",
       "// Listen for the clearing of the current output cell\n",
       "var outputEl = gd.closest('.output');\n",
       "if (outputEl) {{\n",
       "    x.observe(outputEl, {childList: true});\n",
       "}}\n",
       "\n",
       "                        })\n",
       "                };\n",
       "                });\n",
       "            </script>\n",
       "        </div>"
      ]
     },
     "metadata": {},
     "output_type": "display_data"
    }
   ],
   "source": [
    "import plotly \n",
    "\n",
    "import plotly.graph_objs as go\n",
    "\n",
    "trace0 = go.Scatter(\n",
    "    x = alphas,\n",
    "    y = modified_mods_mean,\n",
    "    mode = 'lines+markers',\n",
    "    error_y=dict(type='data', array=modified_mods_std),\n",
    "    name = 'Composite',\n",
    "    yaxis='y',\n",
    "    line=dict(color='dodgerblue', width=2,dash='dash')\n",
    ")\n",
    "trace1 = go.Scatter(\n",
    "    x = alphas,\n",
    "    y = mods_alpha,\n",
    "    mode = 'lines+markers',\n",
    "    error_y=dict(type='data', array=mods_alpha_std),\n",
    "    name = 'Structural',\n",
    "    yaxis='y',\n",
    "    line=dict(color='crimson', width=2)\n",
    ")\n",
    "trace2 = go.Scatter(\n",
    "    x = alphas,\n",
    "    y = attr_mods_alpha,\n",
    "    error_y=dict(type='data', array=attr_mods_alpha_std),\n",
    "    mode = 'lines+markers',\n",
    "    name = 'Attributive',\n",
    "    yaxis='y',\n",
    "    line=dict(color='salmon', width=2)\n",
    ")\n",
    "trace3 = go.Scatter(\n",
    "    x = alphas,\n",
    "    y = differential_mean,\n",
    "    error_y=dict(type='data', array=differential_std),\n",
    "    mode = 'lines+markers',\n",
    "    name = 'Differential',\n",
    "    yaxis='y',\n",
    "    line=dict(color='darkblue', width=2, dash='dash')\n",
    ")\n",
    "\n",
    "data = [trace0, trace1, trace2, trace3]\n",
    "\n",
    "layout = go.Layout(\n",
    "    yaxis=dict(\n",
    "        title='Modularity'\n",
    "    ),\n",
    "    yaxis2=dict(\n",
    "        title='NMI',\n",
    "        titlefont=dict(\n",
    "            color='rgb(148, 103, 189)'\n",
    "        ),\n",
    "        tickfont=dict(\n",
    "            color='rgb(148, 103, 189)'\n",
    "        ),\n",
    "        overlaying='y',\n",
    "        side='right'\n",
    "    ),\n",
    "    xaxis=dict(\n",
    "        title=r'$\\alpha$'\n",
    "    )\n",
    ")\n",
    "\n",
    "fig = go.Figure(data=data, layout=layout)\n",
    "fig.update_layout(legend=dict(x=0, y=-0.2))\n",
    "fig.update_layout(legend_orientation=\"h\")\n",
    "fig.update_layout(showlegend=False)\n",
    "fig.show()\n"
   ]
  },
  {
   "cell_type": "markdown",
   "metadata": {},
   "source": [
    "### Attributes-aware Modularity and Entropy"
   ]
  },
  {
   "cell_type": "code",
   "execution_count": null,
   "metadata": {},
   "outputs": [],
   "source": [
    "def Norm(x):\n",
    "    mi=min(x)\n",
    "    ma=max(np.array(x)-mi)\n",
    "    x_n=(np.array(x)-mi)/ma\n",
    "    return x_n\n",
    "\n",
    "entropy_mean_norm = Norm(entropy_mean)\n",
    "attr_mods_mean_fixed_norm = Norm(attr_mods_mean)"
   ]
  },
  {
   "cell_type": "code",
   "execution_count": null,
   "metadata": {},
   "outputs": [],
   "source": [
    "import plotly \n",
    "\n",
    "import plotly.graph_objs as go\n",
    "\n",
    "trace0 = go.Scatter(\n",
    "    x = alphas,\n",
    "    y = entropy_mean_norm,\n",
    "    mode = 'lines+markers',\n",
    "    #error_y=dict(type='data', array=mod_mods_std_fixed),\n",
    "    name = 'Min-max normalized Anti-Entropy',\n",
    "    yaxis='y',\n",
    "    line=dict(color='dodgerblue', width=2,dash='dash')\n",
    ")\n",
    "trace1 = go.Scatter(\n",
    "    x = alphas,\n",
    "    y = attr_mods_mean_fixed_norm,\n",
    "    mode = 'lines+markers',\n",
    "    #error_y=dict(type='data', array=mods_alpha_std),\n",
    "    name = 'Min-max normalized Attributes-aware Modularity',\n",
    "    yaxis='y',\n",
    "    line=dict(color='crimson', width=2)\n",
    ")\n",
    "\n",
    "data = [trace0, trace1]\n",
    "\n",
    "layout = go.Layout(\n",
    "    yaxis=dict(\n",
    "        title='Quality measure value'\n",
    "    ),\n",
    "    xaxis=dict(\n",
    "        title=r'$\\alpha$'\n",
    "    )\n",
    ")\n",
    "\n",
    "fig = go.Figure(data=data, layout=layout)\n",
    "fig.update_layout(legend=dict(x=0, y=-0.2))\n",
    "fig.update_layout(legend_orientation=\"h\")\n",
    "fig.update_layout(showlegend=True)\n",
    "\n",
    "fig.show()\n",
    "fig.write_image(\"leiden_paper/cora_ent_attr.pdf\")\n"
   ]
  }
 ],
 "metadata": {
  "kernelspec": {
   "display_name": "Python 3",
   "language": "python",
   "name": "python3"
  },
  "language_info": {
   "codemirror_mode": {
    "name": "ipython",
    "version": 3
   },
   "file_extension": ".py",
   "mimetype": "text/x-python",
   "name": "python",
   "nbconvert_exporter": "python",
   "pygments_lexer": "ipython3",
   "version": "3.8.5"
  }
 },
 "nbformat": 4,
 "nbformat_minor": 2
}